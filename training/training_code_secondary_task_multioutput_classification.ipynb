{
 "cells": [
  {
   "cell_type": "code",
   "execution_count": null,
   "id": "76c5d71e",
   "metadata": {
    "ExecuteTime": {
     "end_time": "2024-05-04T18:41:47.171049700Z",
     "start_time": "2024-05-04T18:41:47.124161700Z"
    }
   },
   "outputs": [],
   "source": [
    "import numpy as np\n",
    "from pprint import pprint\n",
    "\n",
    "import random, pickle \n",
    "import pandas as pd\n",
    "\n",
    "from sklearn.multioutput import MultiOutputClassifier\n",
    "from sklearn.ensemble import RandomForestClassifier, AdaBoostClassifier\n",
    "from sklearn.metrics import accuracy_score\n",
    "from sklearn.model_selection import train_test_split\n",
    "from sklearn.neighbors import KNeighborsClassifier\n"
   ]
  },
  {
   "cell_type": "code",
   "execution_count": null,
   "id": "6fc4f3a4-3a62-4b00-a3db-6d0961229eba",
   "metadata": {
    "ExecuteTime": {
     "end_time": "2024-05-04T18:41:48.191230700Z",
     "start_time": "2024-05-04T18:41:47.186681Z"
    }
   },
   "outputs": [],
   "source": [
    "df = pd.read_pickle(\"data_latest_average_non_zero_raw_secondary_task_repeated_insole.pkl\")\n",
    "\n",
    "# if we decided to remove duplicates in participant samples\n",
    "duplicate_rows = df.duplicated(subset=['participant_number','left_or_right'], keep='first')\n",
    "df = df[~duplicate_rows]"
   ]
  },
  {
   "cell_type": "code",
   "execution_count": null,
   "id": "98d8cd08-7847-489c-8126-46027261920e",
   "metadata": {
    "ExecuteTime": {
     "end_time": "2024-05-04T18:41:48.213420600Z",
     "start_time": "2024-05-04T18:41:48.175572100Z"
    }
   },
   "outputs": [],
   "source": [
    "df.columns"
   ]
  },
  {
   "cell_type": "code",
   "execution_count": null,
   "id": "92fca48d-ffdd-459c-b45b-56c852c31639",
   "metadata": {
    "ExecuteTime": {
     "end_time": "2024-05-04T18:41:48.269818500Z",
     "start_time": "2024-05-04T18:41:48.222931100Z"
    }
   },
   "outputs": [],
   "source": [
    "participant_list = df.participant_number.drop_duplicates().to_list()\n",
    "random.Random(420).shuffle(participant_list)\n",
    "print(participant_list)\n",
    "\n",
    "participant_list_train, participant_list_test = train_test_split(participant_list, random_state=115,  train_size=0.85)\n",
    "\n",
    "print(participant_list_train, participant_list_test)"
   ]
  },
  {
   "cell_type": "code",
   "execution_count": null,
   "id": "7014a05b",
   "metadata": {
    "ExecuteTime": {
     "end_time": "2024-05-04T18:41:48.395249200Z",
     "start_time": "2024-05-04T18:41:48.269818500Z"
    }
   },
   "outputs": [],
   "source": [
    "# X, y = make_regression(n_samples=1000, n_features=10, n_informative=5, n_targets=3)\n",
    "\n",
    "# X_train, X_test, y_train, y_test = train_test_split(X, y, random_state=1)\n",
    "\n",
    "df_test = df[df['participant_number'].isin(participant_list_test)] #select test participants\n",
    "df_test = df_test.sample(frac=1).reset_index(drop=True) #shuffle and reset_index\n",
    "# df_test.reset_index(inplace=True,drop=True)\n",
    "df_train = df[df['participant_number'].isin(participant_list_train)] #select train participants\n",
    "df_train = df_train.sample(frac=1).reset_index(drop=True) #shuffle and reset_index\n",
    "# df_train.reset_index(inplace=True,drop=True)"
   ]
  },
  {
   "cell_type": "code",
   "execution_count": null,
   "id": "3e0e4476-7c97-400e-ad6b-b04f630fab42",
   "metadata": {
    "ExecuteTime": {
     "end_time": "2024-05-04T18:41:48.458215500Z",
     "start_time": "2024-05-04T18:41:48.410873500Z"
    },
    "scrolled": true
   },
   "outputs": [],
   "source": [
    "arr = df_train[['mfk_1_entlasten', 'mfk_2_entlasten',\n",
    "       'mfk_3_entlasten', 'mfk_4_entlasten', 'mfk_5_entlasten',\n",
    "       'zehe_1_entlasten', 'zehe_2_entlasten', 'zehe_3_entlasten',\n",
    "       'zehe_4_entlasten', 'zehe_5_entlasten', 'pelotten_hoehe',\n",
    "       'pelotten_form', 'laengsgewoelbe_hoehe', 'basis_5_entlasten',\n",
    "       'aussenrand_anheben', 'innenrand_anheben']].values\n",
    "\n",
    "arr_np = np.asarray(arr.tolist())\n",
    "y_train = arr_np\n",
    "x_train = np.asarray(df_train.input_features.tolist())"
   ]
  },
  {
   "cell_type": "code",
   "execution_count": null,
   "id": "15acd2bd-9217-4334-b9bb-afeac6b12fd4",
   "metadata": {
    "ExecuteTime": {
     "end_time": "2024-05-04T18:41:48.489450400Z",
     "start_time": "2024-05-04T18:41:48.458215500Z"
    }
   },
   "outputs": [],
   "source": [
    "arr = df_test[['mfk_1_entlasten', 'mfk_2_entlasten',\n",
    "       'mfk_3_entlasten', 'mfk_4_entlasten', 'mfk_5_entlasten',\n",
    "       'zehe_1_entlasten', 'zehe_2_entlasten', 'zehe_3_entlasten',\n",
    "       'zehe_4_entlasten', 'zehe_5_entlasten', 'pelotten_hoehe',\n",
    "       'pelotten_form', 'laengsgewoelbe_hoehe', 'basis_5_entlasten',\n",
    "       'aussenrand_anheben', 'innenrand_anheben']].values\n",
    "\n",
    "arr_np = np.asarray(arr.tolist())\n",
    "y_test = arr_np\n",
    "x_test = np.asarray(df_test.input_features.tolist())"
   ]
  },
  {
   "cell_type": "code",
   "execution_count": null,
   "id": "36d5e54d-bb75-473c-be68-4970f5463d57",
   "metadata": {
    "ExecuteTime": {
     "end_time": "2024-05-04T18:41:48.521156100Z",
     "start_time": "2024-05-04T18:41:48.489450400Z"
    }
   },
   "outputs": [],
   "source": [
    "x_train.shape, y_train.shape , x_test.shape, y_test.shape"
   ]
  },
  {
   "cell_type": "code",
   "execution_count": null,
   "id": "39a2ab17362c1dfe",
   "metadata": {
    "ExecuteTime": {
     "end_time": "2024-05-04T18:41:52.436422200Z",
     "start_time": "2024-05-04T18:41:48.505039Z"
    },
    "collapsed": false
   },
   "outputs": [],
   "source": [
    "clf = KNeighborsClassifier(n_neighbors=10)\n",
    "multi_target_clf = MultiOutputClassifier(clf, n_jobs=2)\n",
    "predictions = multi_target_clf.fit(x_train, y_train).predict(x_test)\n",
    "\n",
    "# forest = RandomForestClassifier(random_state=142)\n",
    "# multi_target_forest = MultiOutputClassifier(forest, n_jobs=2)\n",
    "# multi_target_forest.fit(x_train, y_train).predict(x_test)"
   ]
  },
  {
   "cell_type": "code",
   "execution_count": null,
   "id": "1487ce441f7a7efe",
   "metadata": {
    "ExecuteTime": {
     "end_time": "2024-05-04T18:41:52.501056900Z",
     "start_time": "2024-05-04T18:41:52.436422200Z"
    },
    "collapsed": false
   },
   "outputs": [],
   "source": [
    "y_test"
   ]
  },
  {
   "cell_type": "code",
   "execution_count": null,
   "id": "ac8c08a698e98d33",
   "metadata": {
    "ExecuteTime": {
     "end_time": "2024-05-04T18:41:52.501056900Z",
     "start_time": "2024-05-04T18:41:52.467694100Z"
    },
    "collapsed": false
   },
   "outputs": [],
   "source": [
    "predictions"
   ]
  },
  {
   "cell_type": "code",
   "execution_count": null,
   "id": "bff639f6-1eea-4b2d-8356-18b99c5b7164",
   "metadata": {
    "ExecuteTime": {
     "end_time": "2024-05-04T18:41:52.522578100Z",
     "start_time": "2024-05-04T18:41:52.501056900Z"
    }
   },
   "outputs": [],
   "source": [
    "df_test['predictions'] = predictions.tolist()\n",
    "df_test['y_test'] = y_test.tolist()"
   ]
  },
  {
   "cell_type": "code",
   "execution_count": null,
   "id": "4c46acab",
   "metadata": {
    "ExecuteTime": {
     "end_time": "2024-05-04T18:41:52.575459600Z",
     "start_time": "2024-05-04T18:41:52.516067600Z"
    }
   },
   "outputs": [],
   "source": [
    "# df_test.to_pickle(\"data_averaged_time5hours_perRun300_secondary_task.pkl\")"
   ]
  },
  {
   "cell_type": "code",
   "execution_count": null,
   "id": "dda958a2",
   "metadata": {
    "ExecuteTime": {
     "end_time": "2024-05-04T18:41:52.575459600Z",
     "start_time": "2024-05-04T18:41:52.532127600Z"
    }
   },
   "outputs": [],
   "source": [
    "# df_test.to_csv(\"data_averaged_time5hours_perRun300_secondary_task.csv\", index=False)"
   ]
  },
  {
   "cell_type": "code",
   "execution_count": null,
   "id": "a97daf61",
   "metadata": {
    "ExecuteTime": {
     "end_time": "2024-05-04T18:41:52.575459600Z",
     "start_time": "2024-05-04T18:41:52.547764400Z"
    }
   },
   "outputs": [],
   "source": [
    "predictions, y_test"
   ]
  }
 ],
 "metadata": {
  "kernelspec": {
   "display_name": "Python 3 (ipykernel)",
   "language": "python",
   "name": "python3"
  },
  "language_info": {
   "codemirror_mode": {
    "name": "ipython",
    "version": 3
   },
   "file_extension": ".py",
   "mimetype": "text/x-python",
   "name": "python",
   "nbconvert_exporter": "python",
   "pygments_lexer": "ipython3",
   "version": "3.8.11"
  }
 },
 "nbformat": 4,
 "nbformat_minor": 5
}
