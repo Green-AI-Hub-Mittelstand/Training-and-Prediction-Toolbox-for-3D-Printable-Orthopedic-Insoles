{
 "cells": [
  {
   "cell_type": "code",
   "execution_count": 1,
   "id": "76c5d71e",
   "metadata": {
    "ExecuteTime": {
     "end_time": "2024-04-02T15:58:06.662006Z",
     "start_time": "2024-04-02T15:58:05.515153Z"
    }
   },
   "outputs": [],
   "source": [
    "import numpy as np\n",
    "from pprint import pprint\n",
    "\n",
    "import random, pickle \n",
    "import pandas as pd\n",
    "\n",
    "from sklearn.datasets import make_regression\n",
    "# from autosklearn.metrics import mean_absolute_error, mean_squared_error\n",
    "from sklearn.metrics import mean_absolute_error, mean_squared_error\n",
    "from sklearn.model_selection import train_test_split\n",
    "\n",
    "import autosklearn\n",
    "from autosklearn.regression import AutoSklearnRegressor"
   ]
  },
  {
   "cell_type": "code",
   "execution_count": 2,
   "id": "6fc4f3a4-3a62-4b00-a3db-6d0961229eba",
   "metadata": {
    "ExecuteTime": {
     "end_time": "2024-04-02T15:58:07.378654Z",
     "start_time": "2024-04-02T15:58:07.354937Z"
    }
   },
   "outputs": [],
   "source": [
    "df = pd.read_pickle(\"data_cleaned_updated.pkl\")\n",
    "df = df[['input_features', 'pointType_0', 'pointType_1', 'pointType_2',\n",
    "       'pointType_3', 'pointType_4', 'pointType_5', 'pointType_6',\n",
    "       'pointType_7', 'pointType_8', 'pointType_9', 'pointType_10',\n",
    "       'pointType_11', 'pointType_12', 'pointType_13', 'pointType_14',\n",
    "       'pointType_15', 'pointType_16', 'pointType_17', 'pointType_18',\n",
    "       'pointType_19', 'pointType_20', 'pointType_21', 'participant_number',\n",
    "       'left_or_right', 'sample_number']]"
   ]
  },
  {
   "cell_type": "code",
   "execution_count": 3,
   "id": "98d8cd08-7847-489c-8126-46027261920e",
   "metadata": {
    "ExecuteTime": {
     "end_time": "2024-04-02T15:58:08.333288Z",
     "start_time": "2024-04-02T15:58:08.314972Z"
    }
   },
   "outputs": [
    {
     "data": {
      "text/plain": [
       "Index(['input_features', 'pointType_0', 'pointType_1', 'pointType_2',\n",
       "       'pointType_3', 'pointType_4', 'pointType_5', 'pointType_6',\n",
       "       'pointType_7', 'pointType_8', 'pointType_9', 'pointType_10',\n",
       "       'pointType_11', 'pointType_12', 'pointType_13', 'pointType_14',\n",
       "       'pointType_15', 'pointType_16', 'pointType_17', 'pointType_18',\n",
       "       'pointType_19', 'pointType_20', 'pointType_21', 'participant_number',\n",
       "       'left_or_right', 'sample_number'],\n",
       "      dtype='object')"
      ]
     },
     "execution_count": 3,
     "metadata": {},
     "output_type": "execute_result"
    }
   ],
   "source": [
    "df.columns"
   ]
  },
  {
   "cell_type": "code",
   "execution_count": 4,
   "id": "92fca48d-ffdd-459c-b45b-56c852c31639",
   "metadata": {
    "ExecuteTime": {
     "end_time": "2024-04-02T15:57:00.320940Z",
     "start_time": "2024-04-02T15:57:00.293029Z"
    }
   },
   "outputs": [
    {
     "name": "stdout",
     "output_type": "stream",
     "text": [
      "['120', '59', '124', '51', '66', '29', '37', '67', '33', '121', '45', '105', '60', '97', '12', '41', '43', '106', '74', '15', '88', '58', '38', '53', '109', '94', '122', '46', '84', '79', '21', '64', '63', '100', '68', '19', '34', '112', '23', '128', '96', '24', '81', '108', '13', '127', '18', '80', '39', '129', '77', '125', '76', '82', '61', '93', '73', '44', '78', '30', '54', '107', '32', '90', '57', '118', '22', '71', '126', '50', '56', '62', '104', '85', '111', '35', '101', '49', '14', '89', '47', '123', '92', '16', '114', '119', '75', '28', '116', '95', '40', '27', '55', '117', '65', '102', '69', '48', '25', '52', '99', '115', '91', '98', '70', '83', '113', '36', '17', '31', '87', '72', '103']\n",
      "['89', '50', '33', '57', '126', '115', '97', '40', '112', '44', '122', '119', '47', '69', '127', '94', '80', '59', '105', '120', '95', '38', '71', '21', '109', '52', '77', '99', '84', '87', '55', '66', '102', '28', '61', '45', '82', '54', '16', '78', '46', '85', '100', '13', '53', '34', '62', '101', '51', '22', '31', '103', '116', '114', '129', '111', '23', '96', '104', '98', '65', '35', '107', '125', '106', '72', '117', '70', '15', '49', '90', '123', '29', '93', '88', '75', '124', '108', '79', '91', '113', '67', '118', '60', '18', '32', '24', '64', '48', '12', '27', '43', '37', '25', '63', '74'] ['41', '58', '14', '39', '121', '36', '73', '68', '83', '76', '56', '17', '19', '81', '30', '128', '92']\n"
     ]
    }
   ],
   "source": [
    "participant_list = df.participant_number.drop_duplicates().to_list()\n",
    "random.Random(420).shuffle(participant_list)\n",
    "print(participant_list)\n",
    "\n",
    "participant_list_train, participant_list_test = train_test_split(participant_list, random_state=115,  train_size=0.85)\n",
    "\n",
    "print(participant_list_train, participant_list_test)"
   ]
  },
  {
   "cell_type": "code",
   "execution_count": 5,
   "id": "7014a05b",
   "metadata": {},
   "outputs": [],
   "source": [
    "# X, y = make_regression(n_samples=1000, n_features=10, n_informative=5, n_targets=3)\n",
    "\n",
    "# X_train, X_test, y_train, y_test = train_test_split(X, y, random_state=1)\n",
    "\n",
    "df_test = df[df['participant_number'].isin(participant_list_test)] #select test participants\n",
    "df_test = df_test.sample(frac=1).reset_index(drop=True) #shuffle and reset_index\n",
    "# df_test.reset_index(inplace=True,drop=True)\n",
    "df_train = df[df['participant_number'].isin(participant_list_train)] #select train participants\n",
    "df_train = df_train.sample(frac=1).reset_index(drop=True) #shuffle and reset_index\n",
    "# df_train.reset_index(inplace=True,drop=True)"
   ]
  },
  {
   "cell_type": "code",
   "execution_count": 6,
   "id": "3e0e4476-7c97-400e-ad6b-b04f630fab42",
   "metadata": {
    "scrolled": true
   },
   "outputs": [],
   "source": [
    "arr = df_train[[col for col in df_train.columns if 'pointType' in col]].values\n",
    "\n",
    "arr_np = np.asarray(arr.tolist())\n",
    "y_train = arr_np.reshape(arr_np.shape[0], arr_np.shape[1] * arr_np.shape[2])\n",
    "\n",
    "x_train = np.asarray(df_train.input_features.tolist())"
   ]
  },
  {
   "cell_type": "code",
   "execution_count": 7,
   "id": "15acd2bd-9217-4334-b9bb-afeac6b12fd4",
   "metadata": {},
   "outputs": [],
   "source": [
    "arr = df_test[[col for col in df_test.columns if 'pointType' in col]].values\n",
    "\n",
    "arr_np = np.asarray(arr.tolist())\n",
    "y_test = arr_np.reshape(arr_np.shape[0], arr_np.shape[1] * arr_np.shape[2])\n",
    "\n",
    "x_test = np.asarray(df_test.input_features.tolist())"
   ]
  },
  {
   "cell_type": "code",
   "execution_count": 8,
   "id": "36d5e54d-bb75-473c-be68-4970f5463d57",
   "metadata": {},
   "outputs": [
    {
     "data": {
      "text/plain": [
       "((2004, 2048), (2004, 44), (358, 2048), (358, 44))"
      ]
     },
     "execution_count": 8,
     "metadata": {},
     "output_type": "execute_result"
    }
   ],
   "source": [
    "x_train.shape, y_train.shape , x_test.shape, y_test.shape"
   ]
  },
  {
   "cell_type": "code",
   "execution_count": 9,
   "id": "4609a794",
   "metadata": {},
   "outputs": [
    {
     "name": "stdout",
     "output_type": "stream",
     "text": [
      "          rank  ensemble_weight                 type      cost    duration\n",
      "model_id                                                                  \n",
      "106          1             0.60  k_nearest_neighbors  0.889486  121.600821\n",
      "82           2             0.16  k_nearest_neighbors  1.018268  275.414093\n",
      "87           3             0.02          extra_trees  1.389995   93.927037\n",
      "65           4             0.06        decision_tree  2.112673   45.150692\n",
      "47           5             0.04        decision_tree  2.136166   32.638068\n",
      "101          6             0.06        decision_tree  2.225635   32.276055\n",
      "94           7             0.04        decision_tree  2.266275   47.853082\n",
      "20           8             0.02  k_nearest_neighbors  2.777961   71.169368\n"
     ]
    }
   ],
   "source": [
    "# load model\n",
    "with open('data_averaged_time5hours_perRun300_model.pkl', 'rb') as f:\n",
    "    automl = pickle.load(f)\n",
    "\n",
    "print(automl.leaderboard())"
   ]
  },
  {
   "cell_type": "code",
   "execution_count": 10,
   "id": "7dd9e2b4",
   "metadata": {
    "scrolled": true
   },
   "outputs": [
    {
     "name": "stdout",
     "output_type": "stream",
     "text": [
      "{   20: {   'cost': 2.7779610260679615,\n",
      "            'data_preprocessor': <autosklearn.pipeline.components.data_preprocessing.DataPreprocessorChoice object at 0x7f53cacd3850>,\n",
      "            'ensemble_weight': 0.02,\n",
      "            'feature_preprocessor': <autosklearn.pipeline.components.feature_preprocessing.FeaturePreprocessorChoice object at 0x7f53cacae070>,\n",
      "            'model_id': 20,\n",
      "            'rank': 1,\n",
      "            'regressor': <autosklearn.pipeline.components.regression.RegressorChoice object at 0x7f53c6d4c190>,\n",
      "            'sklearn_regressor': KNeighborsRegressor(n_neighbors=10, weights='distance')},\n",
      "    47: {   'cost': 2.136165975998706,\n",
      "            'data_preprocessor': <autosklearn.pipeline.components.data_preprocessing.DataPreprocessorChoice object at 0x7f53c5c788b0>,\n",
      "            'ensemble_weight': 0.04,\n",
      "            'feature_preprocessor': <autosklearn.pipeline.components.feature_preprocessing.FeaturePreprocessorChoice object at 0x7f53c5c0e3a0>,\n",
      "            'model_id': 47,\n",
      "            'rank': 2,\n",
      "            'regressor': <autosklearn.pipeline.components.regression.RegressorChoice object at 0x7f53c5c0e460>,\n",
      "            'sklearn_regressor': DecisionTreeRegressor(max_depth=59, min_samples_leaf=8, min_samples_split=7,\n",
      "                      random_state=14141)},\n",
      "    65: {   'cost': 2.1126730854874314,\n",
      "            'data_preprocessor': <autosklearn.pipeline.components.data_preprocessing.DataPreprocessorChoice object at 0x7f53db6da610>,\n",
      "            'ensemble_weight': 0.06,\n",
      "            'feature_preprocessor': <autosklearn.pipeline.components.feature_preprocessing.FeaturePreprocessorChoice object at 0x7f53db63dee0>,\n",
      "            'model_id': 65,\n",
      "            'rank': 3,\n",
      "            'regressor': <autosklearn.pipeline.components.regression.RegressorChoice object at 0x7f53db5f5220>,\n",
      "            'sklearn_regressor': DecisionTreeRegressor(max_depth=39, min_samples_leaf=7, min_samples_split=8,\n",
      "                      random_state=14141)},\n",
      "    82: {   'cost': 1.0182677002551233,\n",
      "            'data_preprocessor': <autosklearn.pipeline.components.data_preprocessing.DataPreprocessorChoice object at 0x7f53c4613850>,\n",
      "            'ensemble_weight': 0.16,\n",
      "            'feature_preprocessor': <autosklearn.pipeline.components.feature_preprocessing.FeaturePreprocessorChoice object at 0x7f53c452f2b0>,\n",
      "            'model_id': 82,\n",
      "            'rank': 4,\n",
      "            'regressor': <autosklearn.pipeline.components.regression.RegressorChoice object at 0x7f53c452f400>,\n",
      "            'sklearn_regressor': KNeighborsRegressor(n_neighbors=3, p=1, weights='distance')},\n",
      "    87: {   'cost': 1.3899948260863082,\n",
      "            'data_preprocessor': <autosklearn.pipeline.components.data_preprocessing.DataPreprocessorChoice object at 0x7f53bfb449d0>,\n",
      "            'ensemble_weight': 0.02,\n",
      "            'feature_preprocessor': <autosklearn.pipeline.components.feature_preprocessing.FeaturePreprocessorChoice object at 0x7f53be6802e0>,\n",
      "            'model_id': 87,\n",
      "            'rank': 5,\n",
      "            'regressor': <autosklearn.pipeline.components.regression.RegressorChoice object at 0x7f53be6805e0>,\n",
      "            'sklearn_regressor': ExtraTreesRegressor(max_features=0.9300909589718883, min_samples_leaf=9,\n",
      "                    min_samples_split=17, n_estimators=512, n_jobs=1,\n",
      "                    random_state=14141, warm_start=True)},\n",
      "    94: {   'cost': 2.266274986479621,\n",
      "            'data_preprocessor': <autosklearn.pipeline.components.data_preprocessing.DataPreprocessorChoice object at 0x7f53be4da490>,\n",
      "            'ensemble_weight': 0.04,\n",
      "            'feature_preprocessor': <autosklearn.pipeline.components.feature_preprocessing.FeaturePreprocessorChoice object at 0x7f53be43ed60>,\n",
      "            'model_id': 94,\n",
      "            'rank': 6,\n",
      "            'regressor': <autosklearn.pipeline.components.regression.RegressorChoice object at 0x7f53be43eeb0>,\n",
      "            'sklearn_regressor': DecisionTreeRegressor(max_depth=313, min_samples_leaf=8, min_samples_split=4,\n",
      "                      random_state=14141)},\n",
      "    101: {   'cost': 2.2256347707997652,\n",
      "             'data_preprocessor': <autosklearn.pipeline.components.data_preprocessing.DataPreprocessorChoice object at 0x7f53bd51d520>,\n",
      "             'ensemble_weight': 0.06,\n",
      "             'feature_preprocessor': <autosklearn.pipeline.components.feature_preprocessing.FeaturePreprocessorChoice object at 0x7f53bd47fdf0>,\n",
      "             'model_id': 101,\n",
      "             'rank': 7,\n",
      "             'regressor': <autosklearn.pipeline.components.regression.RegressorChoice object at 0x7f53bd47feb0>,\n",
      "             'sklearn_regressor': DecisionTreeRegressor(max_depth=1838, min_samples_leaf=11, min_samples_split=5,\n",
      "                      random_state=14141)},\n",
      "    106: {   'cost': 0.8894864145174932,\n",
      "             'data_preprocessor': <autosklearn.pipeline.components.data_preprocessing.DataPreprocessorChoice object at 0x7f53bc574520>,\n",
      "             'ensemble_weight': 0.6,\n",
      "             'feature_preprocessor': <autosklearn.pipeline.components.feature_preprocessing.FeaturePreprocessorChoice object at 0x7f53bc4d7fd0>,\n",
      "             'model_id': 106,\n",
      "             'rank': 8,\n",
      "             'regressor': <autosklearn.pipeline.components.regression.RegressorChoice object at 0x7f53bc50c310>,\n",
      "             'sklearn_regressor': KNeighborsRegressor(p=1)}}\n"
     ]
    }
   ],
   "source": [
    "pprint(automl.show_models(), indent=4)"
   ]
  },
  {
   "cell_type": "code",
   "execution_count": 11,
   "id": "716d6b57",
   "metadata": {},
   "outputs": [
    {
     "name": "stdout",
     "output_type": "stream",
     "text": [
      "Mean absolute error score: 1.1575682750483642\n"
     ]
    }
   ],
   "source": [
    "predictions = automl.predict(x_test)\n",
    "print(\"Mean absolute error score:\", mean_absolute_error(y_test, predictions))"
   ]
  },
  {
   "cell_type": "code",
   "execution_count": 12,
   "id": "bff639f6-1eea-4b2d-8356-18b99c5b7164",
   "metadata": {},
   "outputs": [],
   "source": [
    "df_test['predictions'] = predictions.tolist()\n",
    "df_test['y_test'] = y_test.tolist()"
   ]
  },
  {
   "cell_type": "code",
   "execution_count": 13,
   "id": "4c46acab",
   "metadata": {},
   "outputs": [],
   "source": [
    "df_test.to_pickle(\"predicted_output.pkl\")\n",
    "df_test.to_csv(\"predicted_output.csv\")"
   ]
  }
 ],
 "metadata": {
  "kernelspec": {
   "display_name": "Python 3 (ipykernel)",
   "language": "python",
   "name": "python3"
  },
  "language_info": {
   "codemirror_mode": {
    "name": "ipython",
    "version": 3
   },
   "file_extension": ".py",
   "mimetype": "text/x-python",
   "name": "python",
   "nbconvert_exporter": "python",
   "pygments_lexer": "ipython3",
   "version": "3.8.11"
  }
 },
 "nbformat": 4,
 "nbformat_minor": 5
}
