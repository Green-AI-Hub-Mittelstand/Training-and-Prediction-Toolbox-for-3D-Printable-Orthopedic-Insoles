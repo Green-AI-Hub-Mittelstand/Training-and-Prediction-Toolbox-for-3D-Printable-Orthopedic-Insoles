{
 "cells": [
  {
   "cell_type": "code",
   "execution_count": null,
   "id": "76c5d71e",
   "metadata": {},
   "outputs": [],
   "source": [
    "import numpy as np\n",
    "from pprint import pprint\n",
    "\n",
    "import random \n",
    "import pandas as pd\n",
    "\n",
    "from sklearn.datasets import make_regression\n",
    "# from autosklearn.metrics import mean_absolute_error, mean_squared_error\n",
    "from sklearn.metrics import mean_absolute_error, mean_squared_error\n",
    "from sklearn.model_selection import train_test_split\n",
    "\n",
    "import autosklearn\n",
    "from autosklearn.regression import AutoSklearnRegressor"
   ]
  },
  {
   "cell_type": "code",
   "execution_count": null,
   "id": "6fc4f3a4-3a62-4b00-a3db-6d0961229eba",
   "metadata": {},
   "outputs": [],
   "source": [
    "df = pd.read_pickle(\"data.pkl\")\n",
    "df = df[['input_features', 'pointType_21', 'pointType_0', 'pointType_1', 'pointType_2',\n",
    "       'pointType_3', 'pointType_4', 'pointType_5', 'pointType_6',\n",
    "       'pointType_7', 'pointType_8', 'pointType_9', 'pointType_10',\n",
    "       'pointType_11', 'pointType_12', 'pointType_13', 'pointType_14',\n",
    "       'pointType_15', 'pointType_16', 'pointType_17', 'pointType_18',\n",
    "       'pointType_19', 'pointType_20', 'participant_number',\n",
    "       'left_or_right', 'sample_number']]"
   ]
  },
  {
   "cell_type": "code",
   "execution_count": null,
   "id": "98d8cd08-7847-489c-8126-46027261920e",
   "metadata": {},
   "outputs": [],
   "source": [
    "df.columns"
   ]
  },
  {
   "cell_type": "code",
   "execution_count": null,
   "id": "92fca48d-ffdd-459c-b45b-56c852c31639",
   "metadata": {},
   "outputs": [],
   "source": [
    "participant_list = df.participant_number.drop_duplicates().to_list()\n",
    "random.Random(42).shuffle(participant_list)\n",
    "print(participant_list)\n",
    "\n",
    "participant_list_train, participant_list_test = train_test_split(participant_list, random_state=115,  train_size=0.85)\n",
    "\n",
    "print(participant_list_train, participant_list_test)"
   ]
  },
  {
   "cell_type": "code",
   "execution_count": null,
   "id": "7014a05b",
   "metadata": {},
   "outputs": [],
   "source": [
    "# X, y = make_regression(n_samples=1000, n_features=10, n_informative=5, n_targets=3)\n",
    "\n",
    "# X_train, X_test, y_train, y_test = train_test_split(X, y, random_state=1)\n",
    "\n",
    "df_test = df[df['participant_number'].isin(participant_list_test)] #select test participants\n",
    "df_test = df_test.sample(frac=1).reset_index(drop=True) #shuffle and reset_index\n",
    "# df_test.reset_index(inplace=True,drop=True)\n",
    "df_train = df[df['participant_number'].isin(participant_list_train)] #select train participants\n",
    "df_train = df_train.sample(frac=1).reset_index(drop=True) #shuffle and reset_index\n",
    "# df_train.reset_index(inplace=True,drop=True)"
   ]
  },
  {
   "cell_type": "code",
   "execution_count": null,
   "id": "3e0e4476-7c97-400e-ad6b-b04f630fab42",
   "metadata": {
    "scrolled": true
   },
   "outputs": [],
   "source": [
    "arr = df_train[[col for col in df_train.columns if 'pointType' in col]].values\n",
    "\n",
    "arr_np = np.asarray(arr.tolist())\n",
    "y_train = arr_np.reshape(arr_np.shape[0], arr_np.shape[1] * arr_np.shape[2])\n",
    "\n",
    "x_train = np.asarray(df_train.input_features.tolist())"
   ]
  },
  {
   "cell_type": "code",
   "execution_count": null,
   "id": "15acd2bd-9217-4334-b9bb-afeac6b12fd4",
   "metadata": {},
   "outputs": [],
   "source": [
    "arr = df_test[[col for col in df_test.columns if 'pointType' in col]].values\n",
    "\n",
    "arr_np = np.asarray(arr.tolist())\n",
    "y_test = arr_np.reshape(arr_np.shape[0], arr_np.shape[1] * arr_np.shape[2])\n",
    "\n",
    "x_test = np.asarray(df_test.input_features.tolist())"
   ]
  },
  {
   "cell_type": "code",
   "execution_count": null,
   "id": "36d5e54d-bb75-473c-be68-4970f5463d57",
   "metadata": {},
   "outputs": [],
   "source": [
    "x_train.shape, y_train.shape , x_test.shape, y_test.shape"
   ]
  },
  {
   "cell_type": "code",
   "execution_count": null,
   "id": "3d2f1fee-e78d-4123-9570-99e809c60f51",
   "metadata": {},
   "outputs": [],
   "source": [
    "x_train_top_half = x_train[:,0:x_train.shape[1]//2]\n",
    "y_train_top_half = y_train[:,0:30]\n",
    "x_train_bottom_half = x_train[:,x_train.shape[1]//2:]\n",
    "y_train_bottom_half = y_train[:,30:]\n",
    "\n",
    "x_test_top_half = x_test[:,0:x_test.shape[1]//2]\n",
    "y_test_top_half = y_test[:,0:30]\n",
    "x_test_bottom_half = x_test[:,x_test.shape[1]//2:]\n",
    "y_test_bottom_half = y_test[:,30:]\n",
    "\n",
    "# make sure that original x and y are erased\n",
    "x_train = None\n",
    "y_train = None\n",
    "x_test = None\n",
    "y_test = None"
   ]
  },
  {
   "cell_type": "code",
   "execution_count": null,
   "id": "56b08335-5909-47ba-b1ba-a200768e31bc",
   "metadata": {},
   "outputs": [],
   "source": [
    "x_train_top_half.shape, y_train_top_half.shape , x_test_top_half.shape, y_test_top_half.shape"
   ]
  },
  {
   "cell_type": "code",
   "execution_count": null,
   "id": "782a7e95-3dfe-4b98-875a-db643e489b1e",
   "metadata": {},
   "outputs": [],
   "source": [
    "x_train_bottom_half.shape, y_train_bottom_half.shape , x_test_bottom_half.shape, y_test_bottom_half.shape"
   ]
  },
  {
   "cell_type": "code",
   "execution_count": null,
   "id": "739a30f7",
   "metadata": {},
   "outputs": [],
   "source": [
    "def trainAndPredict(x_train, y_train , x_test, y_test, which_half):\n",
    "\n",
    "    automl = AutoSklearnRegressor(\n",
    "        time_left_for_this_task=3600,\n",
    "        per_run_time_limit=150,\n",
    "        seed = 14141,\n",
    "        metric = autosklearn.metrics.mean_squared_error,\n",
    "        \n",
    "        # resampling_strategy = 'cv'\n",
    "        resampling_strategy_arguments = {\n",
    "        \"shuffle\": False,        # Whether to shuffle before splitting data\n",
    "        # \"folds\": 3              # Used in 'cv' based resampling strategies\n",
    "        }\n",
    "    )\n",
    "    automl.fit(x_train, y_train)\n",
    "    \n",
    "    print(automl.leaderboard())\n",
    "    \n",
    "    pprint(automl.show_models(), indent=4)\n",
    "    \n",
    "    predictions = automl.predict(x_test)\n",
    "    print(\"Mean absolute error score:\", mean_absolute_error(y_test, predictions))\n",
    "    \n",
    "    df_test['predictions'] = predictions.tolist()\n",
    "    df_test['y_test'] = y_test.tolist()\n",
    "    \n",
    "    df_test.to_pickle(\"data_predicted_\"+ which_half +\"_time3600_perRun150.pkl\")"
   ]
  },
  {
   "cell_type": "code",
   "execution_count": null,
   "id": "36694b8f-2000-4c5f-945c-0405a17296c9",
   "metadata": {},
   "outputs": [],
   "source": [
    "trainAndPredict(x_train_top_half, y_train_top_half , x_test_top_half, y_test_top_half, \"topHalf\")"
   ]
  },
  {
   "cell_type": "code",
   "execution_count": null,
   "id": "97e32f62-e6b9-472e-aa2b-0bf78cb5c760",
   "metadata": {},
   "outputs": [],
   "source": [
    "trainAndPredict(x_train_bottom_half, y_train_bottom_half , x_test_bottom_half, y_test_bottom_half, \"bottomHalf\")"
   ]
  }
 ],
 "metadata": {
  "kernelspec": {
   "display_name": "Python 3 (ipykernel)",
   "language": "python",
   "name": "python3"
  },
  "language_info": {
   "codemirror_mode": {
    "name": "ipython",
    "version": 3
   },
   "file_extension": ".py",
   "mimetype": "text/x-python",
   "name": "python",
   "nbconvert_exporter": "python",
   "pygments_lexer": "ipython3",
   "version": "3.8.11"
  }
 },
 "nbformat": 4,
 "nbformat_minor": 5
}
