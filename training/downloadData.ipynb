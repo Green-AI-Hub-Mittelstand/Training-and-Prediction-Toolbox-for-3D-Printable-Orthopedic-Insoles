{
 "cells": [
  {
   "cell_type": "code",
   "execution_count": 1,
   "id": "02b4f327-edd1-48e7-8cf5-fae3a59dd458",
   "metadata": {
    "ExecuteTime": {
     "end_time": "2024-04-22T20:52:36.261932400Z",
     "start_time": "2024-04-22T20:52:35.973242500Z"
    }
   },
   "outputs": [],
   "source": [
    "import os\n",
    "from tqdm import tqdm\n",
    "from secretToken import TOKEN\n",
    "from helpers import download_and_extract_zip, downloadParticipant"
   ]
  },
  {
   "cell_type": "code",
   "execution_count": 2,
   "id": "d4185576-e159-4c64-a26d-40f0e46a45db",
   "metadata": {
    "ExecuteTime": {
     "end_time": "2024-04-22T20:52:36.277557100Z",
     "start_time": "2024-04-22T20:52:36.261932400Z"
    }
   },
   "outputs": [],
   "source": [
    "DOWNLOAD_ANIMATIONS = True\n"
   ]
  },
  {
   "cell_type": "code",
   "execution_count": 3,
   "id": "eb3887ab-15e2-4d0a-a434-e15522ac542e",
   "metadata": {
    "ExecuteTime": {
     "end_time": "2024-04-22T21:19:30.372753200Z",
     "start_time": "2024-04-22T20:52:36.277557100Z"
    }
   },
   "outputs": [
    {
     "name": "stderr",
     "output_type": "stream",
     "text": [
      " 53%|█████▎    | 71/134 [14:18<12:20, 11.75s/it]"
     ]
    },
    {
     "name": "stdout",
     "output_type": "stream",
     "text": [
      "Failed to download. Status code: 404 - https://green-ai.umtl.dfki.dev/downloadTrainingData/86?add_video=1\n"
     ]
    },
    {
     "name": "stderr",
     "output_type": "stream",
     "text": [
      " 86%|████████▌ | 115/134 [26:31<03:57, 12.48s/it]"
     ]
    },
    {
     "name": "stdout",
     "output_type": "stream",
     "text": [
      "Failed to download. Status code: 500 - https://green-ai.umtl.dfki.dev/downloadTrainingData/130?add_video=1\n"
     ]
    },
    {
     "name": "stderr",
     "output_type": "stream",
     "text": [
      " 87%|████████▋ | 116/134 [26:31<02:38,  8.82s/it]"
     ]
    },
    {
     "name": "stdout",
     "output_type": "stream",
     "text": [
      "Failed to download. Status code: 500 - https://green-ai.umtl.dfki.dev/downloadTrainingData/131?add_video=1\n"
     ]
    },
    {
     "name": "stderr",
     "output_type": "stream",
     "text": [
      " 87%|████████▋ | 117/134 [26:32<01:46,  6.26s/it]"
     ]
    },
    {
     "name": "stdout",
     "output_type": "stream",
     "text": [
      "Failed to download. Status code: 500 - https://green-ai.umtl.dfki.dev/downloadTrainingData/132?add_video=1\n"
     ]
    },
    {
     "name": "stderr",
     "output_type": "stream",
     "text": [
      " 88%|████████▊ | 118/134 [26:32<01:11,  4.49s/it]"
     ]
    },
    {
     "name": "stdout",
     "output_type": "stream",
     "text": [
      "Failed to download. Status code: 500 - https://green-ai.umtl.dfki.dev/downloadTrainingData/133?add_video=1\n"
     ]
    },
    {
     "name": "stderr",
     "output_type": "stream",
     "text": [
      " 89%|████████▉ | 119/134 [26:32<00:48,  3.24s/it]"
     ]
    },
    {
     "name": "stdout",
     "output_type": "stream",
     "text": [
      "Failed to download. Status code: 500 - https://green-ai.umtl.dfki.dev/downloadTrainingData/134?add_video=1\n"
     ]
    },
    {
     "name": "stderr",
     "output_type": "stream",
     "text": [
      " 90%|████████▉ | 120/134 [26:33<00:33,  2.36s/it]"
     ]
    },
    {
     "name": "stdout",
     "output_type": "stream",
     "text": [
      "Failed to download. Status code: 500 - https://green-ai.umtl.dfki.dev/downloadTrainingData/135?add_video=1\n"
     ]
    },
    {
     "name": "stderr",
     "output_type": "stream",
     "text": [
      " 90%|█████████ | 121/134 [26:33<00:22,  1.76s/it]"
     ]
    },
    {
     "name": "stdout",
     "output_type": "stream",
     "text": [
      "Failed to download. Status code: 500 - https://green-ai.umtl.dfki.dev/downloadTrainingData/136?add_video=1\n"
     ]
    },
    {
     "name": "stderr",
     "output_type": "stream",
     "text": [
      " 91%|█████████ | 122/134 [26:33<00:15,  1.32s/it]"
     ]
    },
    {
     "name": "stdout",
     "output_type": "stream",
     "text": [
      "Failed to download. Status code: 500 - https://green-ai.umtl.dfki.dev/downloadTrainingData/137?add_video=1\n"
     ]
    },
    {
     "name": "stderr",
     "output_type": "stream",
     "text": [
      " 92%|█████████▏| 123/134 [26:34<00:11,  1.03s/it]"
     ]
    },
    {
     "name": "stdout",
     "output_type": "stream",
     "text": [
      "Failed to download. Status code: 500 - https://green-ai.umtl.dfki.dev/downloadTrainingData/138?add_video=1\n"
     ]
    },
    {
     "name": "stderr",
     "output_type": "stream",
     "text": [
      " 93%|█████████▎| 124/134 [26:34<00:08,  1.22it/s]"
     ]
    },
    {
     "name": "stdout",
     "output_type": "stream",
     "text": [
      "Failed to download. Status code: 500 - https://green-ai.umtl.dfki.dev/downloadTrainingData/139?add_video=1\n"
     ]
    },
    {
     "name": "stderr",
     "output_type": "stream",
     "text": [
      " 93%|█████████▎| 125/134 [26:34<00:06,  1.48it/s]"
     ]
    },
    {
     "name": "stdout",
     "output_type": "stream",
     "text": [
      "Failed to download. Status code: 500 - https://green-ai.umtl.dfki.dev/downloadTrainingData/140?add_video=1\n"
     ]
    },
    {
     "name": "stderr",
     "output_type": "stream",
     "text": [
      " 94%|█████████▍| 126/134 [26:35<00:04,  1.77it/s]"
     ]
    },
    {
     "name": "stdout",
     "output_type": "stream",
     "text": [
      "Failed to download. Status code: 500 - https://green-ai.umtl.dfki.dev/downloadTrainingData/141?add_video=1\n"
     ]
    },
    {
     "name": "stderr",
     "output_type": "stream",
     "text": [
      " 95%|█████████▍| 127/134 [26:35<00:03,  2.02it/s]"
     ]
    },
    {
     "name": "stdout",
     "output_type": "stream",
     "text": [
      "Failed to download. Status code: 500 - https://green-ai.umtl.dfki.dev/downloadTrainingData/142?add_video=1\n"
     ]
    },
    {
     "name": "stderr",
     "output_type": "stream",
     "text": [
      " 96%|█████████▋| 129/134 [26:52<00:18,  3.80s/it]"
     ]
    },
    {
     "name": "stdout",
     "output_type": "stream",
     "text": [
      "Failed to download. Status code: 500 - https://green-ai.umtl.dfki.dev/downloadTrainingData/144?add_video=1\n"
     ]
    },
    {
     "name": "stderr",
     "output_type": "stream",
     "text": [
      " 97%|█████████▋| 130/134 [26:52<00:11,  2.75s/it]"
     ]
    },
    {
     "name": "stdout",
     "output_type": "stream",
     "text": [
      "Failed to download. Status code: 500 - https://green-ai.umtl.dfki.dev/downloadTrainingData/145?add_video=1\n"
     ]
    },
    {
     "name": "stderr",
     "output_type": "stream",
     "text": [
      " 98%|█████████▊| 131/134 [26:53<00:06,  2.03s/it]"
     ]
    },
    {
     "name": "stdout",
     "output_type": "stream",
     "text": [
      "Failed to download. Status code: 500 - https://green-ai.umtl.dfki.dev/downloadTrainingData/146?add_video=1\n"
     ]
    },
    {
     "name": "stderr",
     "output_type": "stream",
     "text": [
      " 99%|█████████▊| 132/134 [26:53<00:03,  1.52s/it]"
     ]
    },
    {
     "name": "stdout",
     "output_type": "stream",
     "text": [
      "Failed to download. Status code: 500 - https://green-ai.umtl.dfki.dev/downloadTrainingData/147?add_video=1\n"
     ]
    },
    {
     "name": "stderr",
     "output_type": "stream",
     "text": [
      " 99%|█████████▉| 133/134 [26:53<00:01,  1.16s/it]"
     ]
    },
    {
     "name": "stdout",
     "output_type": "stream",
     "text": [
      "Failed to download. Status code: 500 - https://green-ai.umtl.dfki.dev/downloadTrainingData/148?add_video=1\n"
     ]
    },
    {
     "name": "stderr",
     "output_type": "stream",
     "text": [
      "100%|██████████| 134/134 [26:54<00:00, 12.05s/it]"
     ]
    },
    {
     "name": "stdout",
     "output_type": "stream",
     "text": [
      "Failed to download. Status code: 500 - https://green-ai.umtl.dfki.dev/downloadTrainingData/149?add_video=1\n"
     ]
    },
    {
     "name": "stderr",
     "output_type": "stream",
     "text": [
      "\n"
     ]
    }
   ],
   "source": [
    "# Download Participants from 12-56, omitting 26 and 20\n",
    "ids = list(range(12,150))\n",
    "ids.remove(26)\n",
    "ids.remove(20)\n",
    "ids.remove(31)\n",
    "ids.remove(42)\n",
    "\n",
    "\n",
    "for id in tqdm(ids):    \n",
    "    downloadParticipant(id, DOWNLOAD_ANIMATIONS)\n",
    "    \n",
    "    \n",
    "    "
   ]
  },
  {
   "cell_type": "code",
   "execution_count": 3,
   "id": "59869391-ae1c-492f-b820-603943c5c7dc",
   "metadata": {
    "ExecuteTime": {
     "end_time": "2024-04-22T21:19:30.400275700Z",
     "start_time": "2024-04-22T21:19:30.372753200Z"
    }
   },
   "outputs": [],
   "source": []
  }
 ],
 "metadata": {
  "kernelspec": {
   "display_name": "Python 3 (ipykernel)",
   "language": "python",
   "name": "python3"
  },
  "language_info": {
   "codemirror_mode": {
    "name": "ipython",
    "version": 3
   },
   "file_extension": ".py",
   "mimetype": "text/x-python",
   "name": "python",
   "nbconvert_exporter": "python",
   "pygments_lexer": "ipython3",
   "version": "3.12.1"
  }
 },
 "nbformat": 4,
 "nbformat_minor": 5
}
