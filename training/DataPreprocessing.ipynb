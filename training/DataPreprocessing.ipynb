{
 "cells": [
  {
   "cell_type": "code",
   "execution_count": null,
   "id": "initial_id",
   "metadata": {
    "ExecuteTime": {
     "end_time": "2024-04-24T18:34:01.069549500Z",
     "start_time": "2024-04-24T18:34:00.606292900Z"
    },
    "collapsed": true
   },
   "outputs": [],
   "source": [
    "import os, csv, json\n",
    "import pandas as pd\n",
    "\n",
    "from IPython.display import display"
   ]
  },
  {
   "cell_type": "code",
   "execution_count": null,
   "id": "7644c4b4b8793c2d",
   "metadata": {
    "ExecuteTime": {
     "end_time": "2024-04-24T18:34:08.536395Z",
     "start_time": "2024-04-24T18:34:08.523640500Z"
    },
    "collapsed": false
   },
   "outputs": [],
   "source": [
    "# load metadata for data cleaning \n",
    "\n",
    "def load_metadata(participant_number, left_or_right, sample_number):\n",
    "    sampleDir = os.path.normpath(\"data2/\" + participant_number + \"/feet/\" + left_or_right + \"/samples/\" + sample_number)\n",
    "\n",
    "    # Load points\n",
    "    points_file = os.path.join(sampleDir, \"meta.json\")\n",
    "    with open(points_file, 'r') as file:\n",
    "        data = file.read()\n",
    "        meta_data = json.loads(data)\n",
    "        \n",
    "    return meta_data"
   ]
  },
  {
   "cell_type": "markdown",
   "id": "7a97b161f20b0f30",
   "metadata": {
    "collapsed": false
   },
   "source": [
    "# This part for primary task"
   ]
  },
  {
   "cell_type": "code",
   "execution_count": null,
   "id": "1a1a1996df567465",
   "metadata": {
    "ExecuteTime": {
     "start_time": "2024-04-23T17:52:40.550256300Z"
    },
    "collapsed": false
   },
   "outputs": [],
   "source": [
    "def load_sample(participant_number, left_or_right, sample_number):\n",
    "    sampleDir = os.path.normpath(\"data2/\" + participant_number + \"/feet/\" + left_or_right + \"/samples/\" + sample_number)\n",
    "    \n",
    "    df = pd.DataFrame()\n",
    "    \n",
    "    # load first row of csv\n",
    "    csv_file = os.path.join(sampleDir, \"pressure.csv\")\n",
    "    with open(csv_file, mode='r') as file:\n",
    "        csv_reader = csv.reader(file)\n",
    "        pressure_data = next(csv_reader)\n",
    "        pressure_data = [float(cell) for cell in pressure_data]\n",
    "\n",
    "    # Load points\n",
    "    points_file = os.path.join(sampleDir, \"points.json\")\n",
    "    with open(points_file, 'r') as file:\n",
    "        data = file.read()\n",
    "        points_data = json.loads(data)\n",
    "\n",
    "    \n",
    "    # Populate the DataFrame with columns 'pointType_<number>' and corresponding values\n",
    "    df['input_features'] = [pressure_data]\n",
    "    for entry in points_data:\n",
    "        point_type = entry['pointType']\n",
    "        points = entry['points']\n",
    "        df[f'pointType_{point_type}'] = [points]\n",
    "    \n",
    "    return df\n"
   ]
  },
  {
   "cell_type": "code",
   "execution_count": null,
   "id": "1efaec6eb3b4e752",
   "metadata": {
    "ExecuteTime": {
     "end_time": "2024-04-23T17:52:40.583547900Z",
     "start_time": "2024-04-23T17:52:40.567479300Z"
    },
    "collapsed": false
   },
   "outputs": [],
   "source": [
    "def load_sample_rawAdjusted(participant_number, left_or_right, sample_number):\n",
    "    sampleDir = os.path.normpath(\"data2/\" + participant_number + \"/feet/\" + left_or_right + \"/samples/\" + sample_number)\n",
    "    \n",
    "    df = pd.DataFrame()\n",
    "    \n",
    "    csv_file = os.path.join(sampleDir, \"raw_pressure.csv\")\n",
    "\n",
    "    df_raw = pd.read_csv(csv_file, delimiter=\";\", decimal=\",\", header=None, skiprows=4)\n",
    "    df_raw.columns = [f\"Column{i}\" for i in range(len(df_raw.columns))]\n",
    "    df_raw.drop(columns=\"Column0\", axis=1, inplace=True)\n",
    "    df_raw = df_raw[df_raw.sum(axis=1) != 0]\n",
    "    average_non_zero = df_raw.mean()\n",
    "    pressure_data = average_non_zero.tolist()\n",
    "    # print([pressure_data])\n",
    "\n",
    "    # Load points\n",
    "    points_file = os.path.join(sampleDir, \"points.json\")\n",
    "    with open(points_file, 'r') as file:\n",
    "        data = file.read()\n",
    "        points_data = json.loads(data)\n",
    "\n",
    "    \n",
    "    # Populate the DataFrame with columns 'pointType_<number>' and corresponding values\n",
    "    df['input_features'] = [pressure_data]\n",
    "    for entry in points_data:\n",
    "        point_type = entry['pointType']\n",
    "        points = entry['points']\n",
    "        df[f'pointType_{point_type}'] = [points]\n",
    "    \n",
    "    return df"
   ]
  },
  {
   "cell_type": "code",
   "execution_count": null,
   "id": "6e81a43ddbe6eef2",
   "metadata": {
    "ExecuteTime": {
     "end_time": "2024-04-23T17:52:40.602008400Z",
     "start_time": "2024-04-23T17:52:40.583547900Z"
    },
    "collapsed": false
   },
   "outputs": [],
   "source": [
    "# df = load_sample_rawAdjusted(\"12\", \"left\",\"230\")\n",
    "# df = load_sample(\"12\", \"left\",\"230\")"
   ]
  },
  {
   "cell_type": "code",
   "execution_count": null,
   "id": "806c9a79f601fdc0",
   "metadata": {
    "ExecuteTime": {
     "end_time": "2024-04-23T17:58:07.487665200Z",
     "start_time": "2024-04-23T17:52:40.602008400Z"
    },
    "collapsed": false
   },
   "outputs": [],
   "source": [
    "df_final = pd.DataFrame()\n",
    "remove_sway_flag = True\n",
    "\n",
    "for participant_number in os.listdir(\"data2\"):\n",
    "    print(\"Participant number: \" + participant_number)\n",
    "    for left_or_right in [\"left\", \"right\"]:\n",
    "        print(left_or_right)\n",
    "        for sample_number in os.listdir(\"data2/\"+ participant_number + \"/feet/\"+ left_or_right +\"/samples/\"):\n",
    "            meta_data1 = load_metadata(participant_number, left_or_right,sample_number)\n",
    "            if remove_sway_flag:\n",
    "                if \"walk\" in meta_data1[\"pressure_type\"]:\n",
    "                    print(sample_number)\n",
    "                    \n",
    "                    # load the original data called pressure.csv given by Felix\n",
    "                    # df = load_sample(participant_number, left_or_right,sample_number)\n",
    "                    # load manipulated data applied on raw pressure (currently it is the average of non-zero values)\n",
    "                    df = load_sample_rawAdjusted(participant_number, left_or_right,sample_number)\n",
    "                    \n",
    "                    df['participant_number'] = participant_number\n",
    "                    df['left_or_right'] = left_or_right\n",
    "                    df['sample_number'] = sample_number\n",
    "                    df_final = pd.concat([df_final,df])\n",
    "            else:\n",
    "                print(sample_number)\n",
    "                # load the original data called pressure.csv given by Felix\n",
    "                # df = load_sample(participant_number, left_or_right,sample_number)\n",
    "                # load manipulated data applied on raw pressure (currently it is the average of non-zero values)\n",
    "                df = load_sample_rawAdjusted(participant_number, left_or_right,sample_number)\n",
    "                df['participant_number'] = participant_number\n",
    "                df['left_or_right'] = left_or_right\n",
    "                df['sample_number'] = sample_number\n",
    "                df_final = pd.concat([df_final,df])\n",
    "\n",
    "df_final.reset_index(inplace=True,drop=True)\n",
    "\n",
    "# df_final.to_pickle(\"data_latest.pkl\")\n",
    "# df_final.to_csv(\"data_latest.csv\", index=False)\n",
    "\n",
    "df_final.to_pickle(\"data_latest_average_non_zero_raw.pkl\")\n",
    "df_final.to_csv(\"data_latest_average_non_zero_raw.csv\", index=False)"
   ]
  },
  {
   "cell_type": "code",
   "execution_count": null,
   "id": "a58094c21640700c",
   "metadata": {
    "ExecuteTime": {
     "end_time": "2024-04-23T17:58:07.503672200Z",
     "start_time": "2024-04-23T17:58:07.489662900Z"
    },
    "collapsed": false
   },
   "outputs": [],
   "source": [
    "len(df_final)"
   ]
  },
  {
   "cell_type": "markdown",
   "id": "e23c24b2567b4afe",
   "metadata": {
    "collapsed": false
   },
   "source": [
    "# This part for the secondary task"
   ]
  },
  {
   "cell_type": "code",
   "execution_count": null,
   "id": "f70b3d915cc399dc",
   "metadata": {
    "ExecuteTime": {
     "end_time": "2024-04-24T18:35:16.296813300Z",
     "start_time": "2024-04-24T18:35:16.288805Z"
    },
    "collapsed": false
   },
   "outputs": [],
   "source": [
    "# loading data for the secondary task\n",
    "\n",
    "def load_sample_rawAdjusted_secondary_task(participant_number, left_or_right, sample_number):\n",
    "    sampleDir = os.path.normpath(\"data2/\" + participant_number + \"/feet/\" + left_or_right + \"/samples/\" + sample_number)\n",
    "    \n",
    "    csv_file = os.path.join(sampleDir, \"raw_pressure.csv\")\n",
    "\n",
    "    df_raw = pd.read_csv(csv_file, delimiter=\";\", decimal=\",\", header=None, skiprows=4)\n",
    "    df_raw.columns = [f\"Column{i}\" for i in range(len(df_raw.columns))]\n",
    "    df_raw.drop(columns=\"Column0\", axis=1, inplace=True)\n",
    "    df_raw = df_raw[df_raw.sum(axis=1) != 0]\n",
    "    average_non_zero = df_raw.mean()\n",
    "    pressure_data = average_non_zero.tolist()\n",
    "    # print([pressure_data])\n",
    "    \n",
    "    sampleDir_insole = os.path.normpath(\"data2/\" + participant_number + \"/feet/\" + left_or_right + \"/\")\n",
    "    \n",
    "    points_file = os.path.join(sampleDir_insole, \"insole.json\")\n",
    "    with open(points_file, 'r') as file:\n",
    "        data = file.read()\n",
    "        insole_data = json.loads(data)\n",
    "    df = pd.json_normalize(insole_data) \n",
    "    \n",
    "    # Populate the DataFrame with columns 'pointType_<number>' and corresponding values\n",
    "    df['input_features'] = [pressure_data]\n",
    "    \n",
    "    df = df[['input_features','mfk_1_entlasten',\n",
    "       'mfk_2_entlasten', 'mfk_3_entlasten', 'mfk_4_entlasten',\n",
    "       'mfk_5_entlasten', 'zehe_1_entlasten', 'zehe_2_entlasten',\n",
    "       'zehe_3_entlasten', 'zehe_4_entlasten', 'zehe_5_entlasten',\n",
    "       'pelotten_hoehe', 'pelotten_form', 'laengsgewoelbe_hoehe',\n",
    "       'basis_5_entlasten', 'aussenrand_anheben',\n",
    "       'innenrand_anheben']]\n",
    "    \n",
    "    return df"
   ]
  },
  {
   "cell_type": "code",
   "execution_count": null,
   "id": "25bd57c10b7e2c3c",
   "metadata": {
    "ExecuteTime": {
     "end_time": "2024-04-24T18:49:02.135615900Z",
     "start_time": "2024-04-24T18:43:41.175541500Z"
    },
    "collapsed": false
   },
   "outputs": [],
   "source": [
    "df_final = pd.DataFrame()\n",
    "remove_sway_flag = True\n",
    "\n",
    "for participant_number in os.listdir(\"data2\"):\n",
    "    print(\"Participant number: \" + participant_number)\n",
    "    for left_or_right in [\"left\", \"right\"]:\n",
    "        print(left_or_right)\n",
    "        for sample_number in os.listdir(\"data2/\"+ participant_number + \"/feet/\"+ left_or_right +\"/samples/\"):\n",
    "            meta_data1 = load_metadata(participant_number, left_or_right,sample_number)\n",
    "            if remove_sway_flag:\n",
    "                if \"walk\" in meta_data1[\"pressure_type\"]:\n",
    "                    print(sample_number)\n",
    "                    \n",
    "                    # load the original data called pressure.csv given by Felix\n",
    "                    # df = load_sample(participant_number, left_or_right,sample_number)\n",
    "                    # load manipulated data applied on raw pressure (currently it is the average of non-zero values)\n",
    "                    df = load_sample_rawAdjusted_secondary_task(participant_number, left_or_right,sample_number)\n",
    "                    \n",
    "                    df['participant_number'] = participant_number\n",
    "                    df['left_or_right'] = left_or_right\n",
    "                    df['sample_number'] = sample_number\n",
    "                    df_final = pd.concat([df_final,df])\n",
    "            else:\n",
    "                print(sample_number)\n",
    "                # load the original data called pressure.csv given by Felix\n",
    "                # df = load_sample(participant_number, left_or_right,sample_number)\n",
    "                # load manipulated data applied on raw pressure (currently it is the average of non-zero values)\n",
    "                df = load_sample_rawAdjusted_secondary_task(participant_number, left_or_right,sample_number)\n",
    "                df['participant_number'] = participant_number\n",
    "                df['left_or_right'] = left_or_right\n",
    "                df['sample_number'] = sample_number\n",
    "                df_final = pd.concat([df_final,df])\n",
    "\n",
    "df_final.reset_index(inplace=True,drop=True)\n",
    "\n",
    "# df_final.to_pickle(\"data_latest.pkl\")\n",
    "# df_final.to_csv(\"data_latest.csv\", index=False)\n",
    "\n",
    "df_final.to_pickle(\"data_latest_average_non_zero_raw_secondary_task_repeated_insole.pkl\")\n",
    "df_final.to_csv(\"data_latest_average_non_zero_raw_secondary_task_repeated_insole.csv\", index=False)"
   ]
  },
  {
   "cell_type": "code",
   "execution_count": null,
   "id": "69f50779e17cea4e",
   "metadata": {
    "ExecuteTime": {
     "end_time": "2024-04-24T18:49:02.156196300Z",
     "start_time": "2024-04-24T18:49:02.140991300Z"
    },
    "collapsed": false
   },
   "outputs": [],
   "source": [
    "len(df_final)"
   ]
  }
 ],
 "metadata": {
  "kernelspec": {
   "display_name": "Python 3",
   "language": "python",
   "name": "python3"
  },
  "language_info": {
   "codemirror_mode": {
    "name": "ipython",
    "version": 2
   },
   "file_extension": ".py",
   "mimetype": "text/x-python",
   "name": "python",
   "nbconvert_exporter": "python",
   "pygments_lexer": "ipython2",
   "version": "2.7.6"
  }
 },
 "nbformat": 4,
 "nbformat_minor": 5
}
