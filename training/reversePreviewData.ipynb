{
 "cells": [
  {
   "cell_type": "code",
   "execution_count": 40,
   "id": "initial_id",
   "metadata": {
    "ExecuteTime": {
     "end_time": "2024-05-04T17:05:45.540180100Z",
     "start_time": "2024-05-04T17:05:45.522465500Z"
    },
    "collapsed": true
   },
   "outputs": [],
   "source": [
    "import os, csv, json, re\n",
    "import pandas as pd\n",
    "import numpy as np"
   ]
  },
  {
   "cell_type": "code",
   "execution_count": null,
   "id": "ae5c92246a8e970",
   "metadata": {
    "ExecuteTime": {
     "end_time": "2024-05-04T17:05:45.602702700Z",
     "start_time": "2024-05-04T17:05:45.524543100Z"
    },
    "collapsed": false
   },
   "outputs": [],
   "source": [
    "df_final = pd.read_pickle(\"predicted_output.pkl\")\n",
    "df_final.columns"
   ]
  },
  {
   "cell_type": "code",
   "execution_count": null,
   "id": "831f9ecc1f936a13",
   "metadata": {
    "ExecuteTime": {
     "end_time": "2024-05-04T17:05:45.696893700Z",
     "start_time": "2024-05-04T17:05:45.610713Z"
    },
    "collapsed": false
   },
   "outputs": [],
   "source": [
    "df_final"
   ]
  },
  {
   "cell_type": "code",
   "execution_count": 43,
   "id": "40167cf762c9025f",
   "metadata": {
    "ExecuteTime": {
     "end_time": "2024-05-04T17:05:45.744253200Z",
     "start_time": "2024-05-04T17:05:45.696893700Z"
    },
    "collapsed": false
   },
   "outputs": [],
   "source": [
    "# # run this cell to combine two halves into one again, no need to combine the input feature, only the output points\n",
    "# df_final_top_half = pd.read_pickle(\"data_predicted_topHalf_time3600_perRun150.pkl\")\n",
    "# df_final_bottom_half = pd.read_pickle(\"data_predicted_bottomHalf_time3600_perRun150.pkl\")"
   ]
  },
  {
   "cell_type": "code",
   "execution_count": 44,
   "id": "6c125a34fa3cea0a",
   "metadata": {
    "ExecuteTime": {
     "end_time": "2024-05-04T17:05:45.791192400Z",
     "start_time": "2024-05-04T17:05:45.712986200Z"
    },
    "collapsed": false
   },
   "outputs": [],
   "source": [
    "# This is a unit testing cell that just makes assertions, no outcome results from this \n",
    "\n",
    "# y_test = np.asarray(df_final.y_test.tolist())\n",
    "# num_columns = 22  # Number of columns (pointType_<num>)\n",
    "# \n",
    "# # Reshape y_test back to a 3D array\n",
    "# arr_3d = y_test.reshape(y_test.shape[0], num_columns, 2)\n",
    "# # Create a dictionary to hold column names and data\n",
    "# \n",
    "# column_names = [f\"pointType_{i}\" for i in range(num_columns)]\n",
    "# # print(column_names)\n",
    "# data_dict = {col: arr_3d[:, i, :].tolist() for i, col in enumerate(column_names)}\n",
    "# \n",
    "# # Create the DataFrame\n",
    "# df_reversed = pd.DataFrame(data_dict)\n",
    "# \n",
    "# #assert that the reversing is correct\n",
    "# assert df_reversed.equals(df_final[[col for col in df_final.columns if 'pointType' in col]])\n",
    "# \n",
    "# # assertion to check that the labels match original data accurately\n",
    "# arr = df_final[[col for col in df_final.columns if 'pointType' in col]].values\n",
    "# arr_np = np.asarray(arr.tolist())\n",
    "# y_test = arr_np.reshape(arr_np.shape[0], arr_np.shape[1] * arr_np.shape[2])\n",
    "# np.testing.assert_array_equal(y_test,np.asarray(df_final.y_test.tolist()))"
   ]
  },
  {
   "cell_type": "code",
   "execution_count": 45,
   "id": "74e19a3112209c7f",
   "metadata": {
    "ExecuteTime": {
     "end_time": "2024-05-04T17:05:45.820996900Z",
     "start_time": "2024-05-04T17:05:45.728664600Z"
    },
    "collapsed": false
   },
   "outputs": [],
   "source": [
    "# This is the cell that produce the predicted points\n",
    "\n",
    "y_prediction = np.asarray(df_final.predictions.tolist())\n",
    "\n",
    "#in case of halving use the following\n",
    "# y_prediction = np.concatenate((np.asarray(df_final_top_half.predictions.tolist()),np.asarray(df_final_bottom_half.predictions.tolist())), axis=1)\n",
    "\n",
    "num_columns = 22  # Number of columns (pointType_<num>)\n",
    "\n",
    "# Reshape y_test back to a 3D array\n",
    "arr_3d = y_prediction.reshape(y_prediction.shape[0], num_columns, 2)\n",
    "# Create a dictionary to hold column names and data\n",
    "\n",
    "column_names = [f\"pointType_{i}\" for i in range(num_columns)]\n",
    "#in case of halving use the following\n",
    "# column_names = ['pointType_21', 'pointType_0', 'pointType_1',\n",
    "#        'pointType_2', 'pointType_3', 'pointType_4', 'pointType_5',\n",
    "#        'pointType_6', 'pointType_7', 'pointType_8', 'pointType_9',\n",
    "#        'pointType_10', 'pointType_11', 'pointType_12', 'pointType_13',\n",
    "#        'pointType_14', 'pointType_15', 'pointType_16', 'pointType_17',\n",
    "#        'pointType_18', 'pointType_19', 'pointType_20']\n",
    "# print(column_names)\n",
    "data_dict = {col: arr_3d[:, i, :].tolist() for i, col in enumerate(column_names)}\n",
    "\n",
    "# Create the DataFrame\n",
    "df_reversed = pd.DataFrame(data_dict)\n"
   ]
  },
  {
   "cell_type": "code",
   "execution_count": null,
   "id": "ae2451ac26a01f73",
   "metadata": {
    "ExecuteTime": {
     "end_time": "2024-05-04T17:05:45.930834Z",
     "start_time": "2024-05-04T17:05:45.744253200Z"
    },
    "collapsed": false
   },
   "outputs": [],
   "source": [
    "df_final[(df_final.participant_number == \"73\") & (df_final.sample_number == \"1421\")]"
   ]
  },
  {
   "cell_type": "code",
   "execution_count": 47,
   "id": "eb838fe029928d8b",
   "metadata": {
    "ExecuteTime": {
     "end_time": "2024-05-04T17:05:45.930834Z",
     "start_time": "2024-05-04T17:05:45.805472700Z"
    },
    "collapsed": false
   },
   "outputs": [],
   "source": [
    "df_final = df_final[[col for col in df_final.columns if not 'pointType' in col]]\n",
    "df_final = pd.concat([df_final, df_reversed], axis=1)"
   ]
  },
  {
   "cell_type": "code",
   "execution_count": 58,
   "id": "6f387228ce436e20",
   "metadata": {
    "ExecuteTime": {
     "end_time": "2024-05-04T17:34:25.827538Z",
     "start_time": "2024-05-04T17:34:25.817474600Z"
    },
    "collapsed": false
   },
   "outputs": [],
   "source": [
    "def save_sample(df, participant_number, left_or_right, sample_number):\n",
    "    sampleDir = os.path.normpath(\"data2/\" + participant_number + \"/feet/\" + left_or_right + \"/samples/\" + sample_number)\n",
    "    \n",
    "    # Create the directory if it doesn't exist\n",
    "    # os.makedirs(sampleDir, exist_ok=True)\n",
    "    print(participant_number, left_or_right, sample_number)\n",
    "    # Convert DataFrame to a list of dictionaries (each dictionary represents a point)\n",
    "    points_data = []\n",
    "    for row in df.items():\n",
    "        # print(row[0],row[1])\n",
    "        points_data.append({\"points\": row[1], \"pointType\": int(re.findall(r'\\d+', row[0])[0])})\n",
    "        # print(points_data)\n",
    "    # print(df)\n",
    "    \n",
    "    # print(points_data)\n",
    "    # Write the list of dictionaries to the points.json file\n",
    "    points_file = os.path.join(sampleDir, \"predictedPoints.json\")\n",
    "    print(points_file)\n",
    "    with open(points_file, 'w') as file:\n",
    "        json.dump(points_data, file, indent=2)  # Indent for readability"
   ]
  },
  {
   "cell_type": "code",
   "execution_count": null,
   "id": "1342cdd0a7a81141",
   "metadata": {
    "ExecuteTime": {
     "end_time": "2024-05-04T17:34:27.327289400Z",
     "start_time": "2024-05-04T17:34:26.364672Z"
    },
    "collapsed": false
   },
   "outputs": [],
   "source": [
    "# Assuming you already have df_final containing your processed data\n",
    "# You can replace this with your actual DataFrame\n",
    "for _, row in df_final.iterrows():\n",
    "    participant_number = row['participant_number']\n",
    "    left_or_right = row['left_or_right']\n",
    "    sample_number = row['sample_number']\n",
    "    selected_columns = [col for col in df_final.columns if col.startswith(\"pointType_\")]\n",
    "    df_selected = row[selected_columns]\n",
    "\n",
    "    save_sample(df_selected, participant_number, left_or_right, sample_number)\n"
   ]
  },
  {
   "cell_type": "code",
   "execution_count": null,
   "id": "d010b6da8aa7f5f6",
   "metadata": {
    "collapsed": false
   },
   "outputs": [],
   "source": []
  }
 ],
 "metadata": {
  "kernelspec": {
   "display_name": "Python 3",
   "language": "python",
   "name": "python3"
  },
  "language_info": {
   "codemirror_mode": {
    "name": "ipython",
    "version": 2
   },
   "file_extension": ".py",
   "mimetype": "text/x-python",
   "name": "python",
   "nbconvert_exporter": "python",
   "pygments_lexer": "ipython2",
   "version": "2.7.6"
  }
 },
 "nbformat": 4,
 "nbformat_minor": 5
}
