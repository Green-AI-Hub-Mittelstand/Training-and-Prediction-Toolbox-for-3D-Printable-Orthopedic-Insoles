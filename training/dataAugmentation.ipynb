{
 "cells": [
  {
   "cell_type": "code",
   "execution_count": null,
   "id": "78dec5236847eb3f",
   "metadata": {
    "ExecuteTime": {
     "end_time": "2024-04-05T20:41:10.971755500Z",
     "start_time": "2024-04-05T20:41:09.722259200Z"
    },
    "collapsed": false
   },
   "outputs": [],
   "source": [
    "import os, csv, json, re\n",
    "import pandas as pd\n",
    "\n",
    "import numpy as np\n",
    "import math"
   ]
  },
  {
   "cell_type": "code",
   "execution_count": null,
   "id": "3ab8d0686c597287",
   "metadata": {
    "ExecuteTime": {
     "end_time": "2024-04-05T20:41:11.212695300Z",
     "start_time": "2024-04-05T20:41:10.971755500Z"
    },
    "collapsed": false
   },
   "outputs": [],
   "source": [
    "df = pd.read_pickle(\"data_cleaned.pkl\")\n",
    "df = df[['input_features', 'pointType_0', 'pointType_1', 'pointType_2',\n",
    "       'pointType_3', 'pointType_4', 'pointType_5', 'pointType_6',\n",
    "       'pointType_7', 'pointType_8', 'pointType_9', 'pointType_10',\n",
    "       'pointType_11', 'pointType_12', 'pointType_13', 'pointType_14',\n",
    "       'pointType_15', 'pointType_16', 'pointType_17', 'pointType_18',\n",
    "       'pointType_19', 'pointType_20', 'pointType_21', 'participant_number',\n",
    "       'left_or_right', 'sample_number']]\n",
    "print(df)"
   ]
  },
  {
   "cell_type": "code",
   "execution_count": null,
   "id": "8b695257aafe81c3",
   "metadata": {
    "ExecuteTime": {
     "end_time": "2024-04-05T20:41:11.310321300Z",
     "start_time": "2024-04-05T20:41:11.207107Z"
    },
    "collapsed": false
   },
   "outputs": [],
   "source": [
    "print(df)"
   ]
  },
  {
   "cell_type": "code",
   "execution_count": null,
   "id": "90231e8801450d58",
   "metadata": {
    "ExecuteTime": {
     "end_time": "2024-04-05T20:41:11.312315900Z",
     "start_time": "2024-04-05T20:41:11.288991300Z"
    },
    "collapsed": false
   },
   "outputs": [],
   "source": [
    "def roll_images(input_features_inner, pixels, axis_, point=None):\n",
    "    # input_features_inner = df.input_features[591] # for debugging\n",
    "    input_features_inner_np = np.asarray(input_features_inner)\n",
    "    input_features_inner_np_rolled = np.roll(input_features_inner_np.reshape(64,32),pixels,axis=axis_)\n",
    "    \n",
    "    if point is not None:\n",
    "    # Convert point from string to tuple if needed\n",
    "        if isinstance(point, str):\n",
    "            point = tuple(map(float, point[1:-1].split(',')))\n",
    "        \n",
    "        if axis_ == 0:\n",
    "            return [point[0], point[1]+pixels]\n",
    "        elif axis_ == 1:\n",
    "            return [point[0]+pixels, point[1]]\n",
    "        else:\n",
    "            return [point[0]+pixels, point[1]+pixels]\n",
    "    else:\n",
    "        # Flatten the rotated image\n",
    "        # print(\"entered here\")\n",
    "        return input_features_inner_np_rolled.reshape(-1)"
   ]
  },
  {
   "cell_type": "code",
   "execution_count": null,
   "id": "d4c7047eb02654a9",
   "metadata": {
    "ExecuteTime": {
     "end_time": "2024-04-05T20:41:12.609228600Z",
     "start_time": "2024-04-05T20:41:11.306851600Z"
    },
    "collapsed": false
   },
   "outputs": [],
   "source": [
    "x_or_y_shift = 2\n",
    "axis_to_shift = (0,1)\n",
    "\n",
    "\n",
    "df['input_features'] = df['input_features'].apply(lambda row: roll_images(row,x_or_y_shift,axis_to_shift))\n",
    "\n",
    "for i in range(0, 22):\n",
    "    print(i)\n",
    "    pointType_col = f'pointType_{i}'\n",
    "    # Apply the rotation function to each row in the original point column\n",
    "    df[pointType_col] = df.apply(lambda row: roll_images(row['input_features'], x_or_y_shift,axis_to_shift,point=row[pointType_col]), axis=1)"
   ]
  },
  {
   "cell_type": "code",
   "execution_count": null,
   "id": "feb21922a1f10ecc",
   "metadata": {
    "ExecuteTime": {
     "end_time": "2024-04-05T20:41:12.885172700Z",
     "start_time": "2024-04-05T20:41:12.615226700Z"
    },
    "collapsed": false
   },
   "outputs": [],
   "source": [
    "df.to_pickle(\"dataAugmentation_10Degrees.pkl\")\n",
    "df.to_csv(\"dataAugmentation_10Degrees.csv\", index=False)"
   ]
  },
  {
   "cell_type": "code",
   "execution_count": null,
   "id": "9e665b884be37849",
   "metadata": {
    "ExecuteTime": {
     "end_time": "2024-04-05T20:41:12.908578100Z",
     "start_time": "2024-04-05T20:41:12.892948700Z"
    },
    "collapsed": false
   },
   "outputs": [],
   "source": [
    "def save_sample(df_input_features, df_inner, participant_number, left_or_right, sample_number):\n",
    "    sampleDir = os.path.normpath(\"data2/\" + participant_number + \"/feet/\" + left_or_right + \"/samples/\" + sample_number)\n",
    "    \n",
    "    np.savetxt(os.path.join(sampleDir, \"augmentedPressure.csv\"), df_input_features.reshape(1,2048).round(10),fmt='%f', delimiter=\",\")\n",
    "    \n",
    "    # Create the directory if it doesn't exist\n",
    "    # os.makedirs(sampleDir, exist_ok=True)\n",
    "    print(participant_number, left_or_right, sample_number)\n",
    "    # Convert DataFrame to a list of dictionaries (each dictionary represents a point)\n",
    "    points_data = []\n",
    "    for row in df_inner.items():\n",
    "        # print(row[0],row[1])\n",
    "        points_data.append({\"points\": row[1], \"pointType\": int(re.findall(r'\\d+', row[0])[0])})\n",
    "        # print(points_data)\n",
    "    \n",
    "    \n",
    "    # Write the list of dictionaries to the points.json file\n",
    "    points_file = os.path.join(sampleDir, \"augmentedPoints.json\")\n",
    "    print(points_file)\n",
    "    with open(points_file, 'w') as file:\n",
    "        json.dump(points_data, file, indent=2)  # Indent for readability\n",
    "        "
   ]
  },
  {
   "cell_type": "code",
   "execution_count": null,
   "id": "ea4f082a53282122",
   "metadata": {
    "ExecuteTime": {
     "end_time": "2024-04-05T20:41:18.098626300Z",
     "start_time": "2024-04-05T20:41:12.901885900Z"
    },
    "collapsed": false
   },
   "outputs": [],
   "source": [
    "# Assuming you already have df_final containing your processed data\n",
    "# You can replace this with your actual DataFrame\n",
    "for _, row in df.iterrows():\n",
    "    \n",
    "    # print(row.input_features.reshape(1,2048))\n",
    "    # \n",
    "    # np.savetxt(\"foo.csv\", row.input_features.reshape(1,2048).round(10),fmt='%f', delimiter=\",\")\n",
    "    \n",
    "    participant_number = row['participant_number']\n",
    "    left_or_right = row['left_or_right']\n",
    "    sample_number = row['sample_number']\n",
    "    selected_columns = [col for col in df.columns if col.startswith(\"pointType_\")]\n",
    "    df_selected = row[selected_columns]\n",
    "    \n",
    "    save_sample(row.input_features, df_selected, participant_number, left_or_right, sample_number)\n"
   ]
  },
  {
   "cell_type": "code",
   "execution_count": null,
   "id": "7dfd9d3faeae482a",
   "metadata": {
    "ExecuteTime": {
     "end_time": "2024-04-05T20:41:18.120347700Z",
     "start_time": "2024-04-05T20:41:18.106902600Z"
    },
    "collapsed": false
   },
   "outputs": [],
   "source": [
    "# def rotate_image(image_row, angle_degrees, point=None):\n",
    "#     \"\"\"\n",
    "#     Rotate the image by the specified angle (in degrees).\n",
    "#     Args:\n",
    "#         image_row (str or np.ndarray): The input image row (flattened 1D array) as a string or NumPy array.\n",
    "#         angle_degrees (float): The rotation angle in degrees.\n",
    "#         point (tuple or None): If provided, the original point coordinates (x, y).\n",
    "#     Returns:\n",
    "#         np.ndarray or tuple: The rotated image (flattened 1D array) or new coordinates of the rotated point (x_new, y_new).\n",
    "#     \"\"\"\n",
    "#     # Convert image_row from string to NumPy array\n",
    "#     if isinstance(image_row, list):\n",
    "#         # image_row = np.fromstring(image_row[1:-1], sep=' ')\n",
    "#         image_row = np.array(image_row)\n",
    "# \n",
    "#     # Reshape the 1D image row into a 2D image (32x64)\n",
    "#     image_2d = image_row.reshape(64, 32)\n",
    "# \n",
    "#     # Convert angle to radians\n",
    "#     angle_radians = math.radians(angle_degrees)\n",
    "# \n",
    "#     # Get image dimensions\n",
    "#     width, height = image_2d.shape\n",
    "# \n",
    "#     # Calculate the center point\n",
    "#     center_x, center_y = width//2, height//2\n",
    "# \n",
    "#     # Initialize the rotated image\n",
    "#     rotated_image = np.zeros_like(image_2d)\n",
    "# \n",
    "#     # Perform rotation\n",
    "#     for y in range(height):\n",
    "#         for x in range(width):\n",
    "#             # Calculate new coordinates after rotation\n",
    "#             new_x = int((x - center_x) * math.cos(angle_radians) - (y - center_y) * math.sin(angle_radians) + center_x)\n",
    "#             new_y = int((x - center_x) * math.sin(angle_radians) + (y - center_y) * math.cos(angle_radians) + center_y)\n",
    "# \n",
    "#             # Check if new coordinates are within bounds\n",
    "#             if 0 <= new_x < width and 0 <= new_y < height:\n",
    "#                 # print(x,y,new_x,new_y)\n",
    "#                 rotated_image[new_x, new_y] = image_2d[x, y]\n",
    "# \n",
    "#     if point is not None:\n",
    "#         # Convert point from string to tuple if needed\n",
    "#         if isinstance(point, str):\n",
    "#             point = tuple(map(float, point[1:-1].split(',')))\n",
    "# \n",
    "#         # Calculate new coordinates for the specified point\n",
    "#         translated_x = point[0] - center_x\n",
    "#         translated_y = point[1] - center_y\n",
    "#         new_x_point = translated_x * math.cos(angle_radians) - translated_y * math.sin(angle_radians) + center_x\n",
    "#         new_y_point = translated_x * math.sin(angle_radians) + translated_y * math.cos(angle_radians) + center_y\n",
    "#         return [new_x_point, new_y_point]\n",
    "#     else:\n",
    "#         # Flatten the rotated image\n",
    "#         return rotated_image.reshape(-1)"
   ]
  },
  {
   "cell_type": "code",
   "execution_count": null,
   "id": "a5e2687877158cc5",
   "metadata": {
    "ExecuteTime": {
     "end_time": "2024-04-05T20:41:18.164601Z",
     "start_time": "2024-04-05T20:41:18.120347700Z"
    },
    "collapsed": false
   },
   "outputs": [],
   "source": [
    "# def change_angle_to_radius_unit(angle):\n",
    "#     angle_radius = angle * (np.pi/180)\n",
    "#     return angle_radius\n",
    "# \n",
    "# def rotate(src_img,angle_of_rotation,pivot_point,shape_img):\n",
    "# \n",
    "#     #1.create rotation matrix with numpy array\n",
    "#     rotation_mat = np.transpose(np.array([[np.cos(angle_of_rotation),-np.sin(angle_of_rotation)],\n",
    "#                             [np.sin(angle_of_rotation),np.cos(angle_of_rotation)]]))\n",
    "#     h,w = shape_img\n",
    "#     \n",
    "#     pivot_point_x =  pivot_point[0]\n",
    "#     pivot_point_y = pivot_point[1]\n",
    "#     \n",
    "#     new_img = np.zeros(src_img.shape,dtype='u1') \n",
    "# \n",
    "#     for height in range(h): #h = number of row\n",
    "#         for width in range(w): #w = number of col\n",
    "#             xy_mat = np.array([[width-pivot_point_x],[height-pivot_point_y]])\n",
    "#             \n",
    "#             rotate_mat = np.dot(rotation_mat,xy_mat)\n",
    "# \n",
    "#             new_x = pivot_point_x + int(rotate_mat[0])\n",
    "#             new_y = pivot_point_y + int(rotate_mat[1])\n",
    "# \n",
    "# \n",
    "#             if (0<=new_x<=w-1) and (0<=new_y<=h-1): \n",
    "#                 new_img[new_y,new_x] = src_img[height,width]\n",
    "# \n",
    "#     return new_img"
   ]
  },
  {
   "cell_type": "code",
   "execution_count": null,
   "id": "be056414c9afcf03",
   "metadata": {
    "ExecuteTime": {
     "end_time": "2024-04-05T20:41:18.164601Z",
     "start_time": "2024-04-05T20:41:18.136219200Z"
    },
    "collapsed": false
   },
   "outputs": [],
   "source": [
    "# # Example usage:\n",
    "# # Assuming 'df' is your DataFrame with columns 'image_row' and 'original_point'\n",
    "# df['input_features'] = df['input_features'].apply(lambda row: rotate_image(row, 5))\n",
    "# \n",
    "# for i in range(0, 22):\n",
    "#     print(i)\n",
    "#     pointType_col = f'pointType_{i}'\n",
    "#     # Apply the rotation function to each row in the original point column\n",
    "#     df[pointType_col] = df.apply(lambda row: rotate_image(row['input_features'], 5, point=row[pointType_col]), axis=1)\n",
    "# \n",
    "# \n",
    "# \n",
    "# df['pointType_0'] = df.apply(lambda row: rotate_image(row['input_features'], 5, point=row['pointType_0']), axis=1)"
   ]
  },
  {
   "cell_type": "code",
   "execution_count": null,
   "id": "initial_id",
   "metadata": {
    "ExecuteTime": {
     "end_time": "2024-04-05T20:41:18.167966400Z",
     "start_time": "2024-04-05T20:41:18.158066300Z"
    },
    "collapsed": false
   },
   "outputs": [],
   "source": [
    "# def rotate_image(image, angle_degrees, point=None):\n",
    "#     \"\"\"\n",
    "#     Rotate the image by the specified angle (in degrees).\n",
    "#     Args:\n",
    "#         image (np.ndarray): The input image (32x64).\n",
    "#         angle_degrees (float): The rotation angle in degrees.\n",
    "#         point (tuple or None): If provided, the original point coordinates (x, y).\n",
    "#     Returns:\n",
    "#         np.ndarray or tuple: The rotated image (flattened 1D array) or new coordinates of the rotated point (x_new, y_new).\n",
    "#     \"\"\"\n",
    "#     # Convert angle to radians\n",
    "#     angle_radians = math.radians(angle_degrees)\n",
    "# \n",
    "#     # Get image dimensions\n",
    "#     height, width = image.shape\n",
    "# \n",
    "#     # Calculate the center point\n",
    "#     center_x, center_y = width // 2, height // 2\n",
    "# \n",
    "#     # Initialize the rotated image\n",
    "#     rotated_image = np.zeros_like(image)\n",
    "# \n",
    "#     # Perform rotation\n",
    "#     for y in range(height):\n",
    "#         for x in range(width):\n",
    "#             # Calculate new coordinates after rotation\n",
    "#             new_x = int((x - center_x) * math.cos(angle_radians) - (y - center_y) * math.sin(angle_radians) + center_x)\n",
    "#             new_y = int((x - center_x) * math.sin(angle_radians) + (y - center_y) * math.cos(angle_radians) + center_y)\n",
    "# \n",
    "#             # Check if new coordinates are within bounds\n",
    "#             if 0 <= new_x < width and 0 <= new_y < height:\n",
    "#                 rotated_image[new_y, new_x] = image[y, x]\n",
    "# \n",
    "#     if point is not None:\n",
    "#         # Calculate new coordinates for the specified point\n",
    "#         translated_x = point[0] - center_x\n",
    "#         translated_y = point[1] - center_y\n",
    "#         new_x_point = translated_x * math.cos(angle_radians) - translated_y * math.sin(angle_radians) + center_x\n",
    "#         new_y_point = translated_x * math.sin(angle_radians) + translated_y * math.cos(angle_radians) + center_y\n",
    "#         return new_x_point, new_y_point\n",
    "#     else:\n",
    "#         # Flatten the rotated image\n",
    "#         return rotated_image.flatten()\n",
    "# \n",
    "# \n"
   ]
  },
  {
   "cell_type": "code",
   "execution_count": null,
   "id": "1c8b760f0317f36b",
   "metadata": {
    "ExecuteTime": {
     "end_time": "2024-04-05T20:41:18.184419300Z",
     "start_time": "2024-04-05T20:41:18.169006600Z"
    },
    "collapsed": false
   },
   "outputs": [],
   "source": [
    "# def load_sample(participant_number, left_or_right, sample_number):\n",
    "#     sampleDir = os.path.normpath(\"data2/\" + participant_number + \"/feet/\" + left_or_right + \"/samples/\" + sample_number)\n",
    "#     \n",
    "#     df = pd.DataFrame()\n",
    "#     \n",
    "#     # load first row of csv\n",
    "#     csv_file = os.path.join(sampleDir, \"pressure.csv\")\n",
    "#     with open(csv_file, mode='r') as file:\n",
    "#         csv_reader = csv.reader(file)\n",
    "#         pressure_data = next(csv_reader)\n",
    "#         pressure_data = [float(cell) for cell in pressure_data]\n",
    "# \n",
    "#     # Load points\n",
    "#     points_file = os.path.join(sampleDir, \"points.json\")\n",
    "#     with open(points_file, 'r') as file:\n",
    "#         data = file.read()\n",
    "#         points_data = json.loads(data)\n",
    "# \n",
    "#     \n",
    "#     # Populate the DataFrame with columns 'pointType_<number>' and corresponding values\n",
    "#     df['input_features'] = [pressure_data]\n",
    "#     for entry in points_data:\n",
    "#         point_type = entry['pointType']\n",
    "#         points = entry['points']\n",
    "#         df[f'pointType_{point_type}'] = [points]\n",
    "#     \n",
    "#     return df"
   ]
  },
  {
   "cell_type": "code",
   "execution_count": null,
   "id": "2c04b52a2e97f7be",
   "metadata": {
    "ExecuteTime": {
     "end_time": "2024-04-05T20:41:18.228939500Z",
     "start_time": "2024-04-05T20:41:18.187936600Z"
    },
    "collapsed": false
   },
   "outputs": [],
   "source": [
    "# image_row = np.asarray(df1.input_features.tolist())"
   ]
  },
  {
   "cell_type": "code",
   "execution_count": null,
   "id": "cf9c03445e0218e3",
   "metadata": {
    "ExecuteTime": {
     "end_time": "2024-04-05T20:41:18.229938Z",
     "start_time": "2024-04-05T20:41:18.202211300Z"
    },
    "collapsed": false
   },
   "outputs": [],
   "source": [
    "# # Example usage:\n",
    "# # Assuming 'image_row' is your 1D image row (2048 cells)\n",
    "# image_2d = image_row.reshape(32, 64)\n",
    "# \n",
    "# # Rotate the entire image clockwise by 10 degrees and flatten it\n",
    "# clockwise_result = rotate_image(image_2d, 10)\n",
    "# \n",
    "# # Specify a point for rotation (original coordinates)\n",
    "# original_point = df1.pointType_1.tolist()[0]\n",
    "# \n",
    "# # Calculate new coordinates after clockwise rotation\n",
    "# clockwise_new_point = rotate_image(image_2d, 10, point=original_point)\n",
    "# \n",
    "# print(f\"Clockwise Rotated Image (flattened): {clockwise_result}\")\n",
    "# print(f\"New Point Coordinates (Clockwise Rotation): {clockwise_new_point}\")"
   ]
  },
  {
   "cell_type": "code",
   "execution_count": null,
   "id": "17e366e24ac6488a",
   "metadata": {
    "ExecuteTime": {
     "end_time": "2024-04-05T20:41:18.233556800Z",
     "start_time": "2024-04-05T20:41:18.222487500Z"
    },
    "collapsed": false
   },
   "outputs": [],
   "source": []
  }
 ],
 "metadata": {
  "kernelspec": {
   "display_name": "Python 3",
   "language": "python",
   "name": "python3"
  },
  "language_info": {
   "codemirror_mode": {
    "name": "ipython",
    "version": 2
   },
   "file_extension": ".py",
   "mimetype": "text/x-python",
   "name": "python",
   "nbconvert_exporter": "python",
   "pygments_lexer": "ipython2",
   "version": "2.7.6"
  }
 },
 "nbformat": 4,
 "nbformat_minor": 5
}
