{
 "cells": [
  {
   "cell_type": "code",
   "execution_count": null,
   "id": "initial_id",
   "metadata": {
    "ExecuteTime": {
     "end_time": "2024-04-04T13:50:07.038944800Z",
     "start_time": "2024-04-04T13:50:05.980810900Z"
    },
    "collapsed": true
   },
   "outputs": [],
   "source": [
    "import os, csv, json\n",
    "import pandas as pd"
   ]
  },
  {
   "cell_type": "code",
   "execution_count": null,
   "id": "eff290aafd593fa",
   "metadata": {
    "ExecuteTime": {
     "end_time": "2024-04-04T13:50:07.925119500Z",
     "start_time": "2024-04-04T13:50:07.915528300Z"
    },
    "collapsed": false
   },
   "outputs": [],
   "source": [
    "def load_metadata(participant_number, left_or_right, sample_number):\n",
    "    sampleDir = os.path.normpath(\"data2/\" + participant_number + \"/feet/\" + left_or_right + \"/samples/\" + sample_number)\n",
    "\n",
    "    # Load points\n",
    "    points_file = os.path.join(sampleDir, \"meta.json\")\n",
    "    with open(points_file, 'r') as file:\n",
    "        data = file.read()\n",
    "        meta_data = json.loads(data)\n",
    "        \n",
    "    return meta_data"
   ]
  },
  {
   "cell_type": "code",
   "execution_count": null,
   "id": "53e8c44add0fb89",
   "metadata": {
    "ExecuteTime": {
     "end_time": "2024-04-04T13:50:08.682416500Z",
     "start_time": "2024-04-04T13:50:08.318563900Z"
    },
    "collapsed": false
   },
   "outputs": [],
   "source": [
    "for participant_number in os.listdir(\"data2\"):\n",
    "    print(\"Participant number: \" + participant_number) \n",
    "    if participant_number == \"42\": continue;\n",
    "    for left_or_right in [\"left\", \"right\"]:\n",
    "        print(left_or_right)\n",
    "        for sample_number in os.listdir(\"data2/\"+ participant_number + \"/feet/\"+ left_or_right +\"/samples/\"):\n",
    "            meta_data1 = load_metadata(participant_number, left_or_right,sample_number)\n",
    "            if \"walk\" in meta_data1[\"pressure_type\"]:\n",
    "                print(meta_data1[\"pressure_type\"])"
   ]
  },
  {
   "cell_type": "code",
   "execution_count": null,
   "id": "3c767cc4d1c685fd",
   "metadata": {
    "collapsed": false
   },
   "outputs": [],
   "source": []
  }
 ],
 "metadata": {
  "kernelspec": {
   "display_name": "Python 3",
   "language": "python",
   "name": "python3"
  },
  "language_info": {
   "codemirror_mode": {
    "name": "ipython",
    "version": 2
   },
   "file_extension": ".py",
   "mimetype": "text/x-python",
   "name": "python",
   "nbconvert_exporter": "python",
   "pygments_lexer": "ipython2",
   "version": "2.7.6"
  }
 },
 "nbformat": 4,
 "nbformat_minor": 5
}
