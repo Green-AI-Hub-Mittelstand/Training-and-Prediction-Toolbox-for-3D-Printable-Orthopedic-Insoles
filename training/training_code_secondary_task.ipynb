{
 "cells": [
  {
   "cell_type": "code",
   "execution_count": null,
   "id": "76c5d71e",
   "metadata": {
    "ExecuteTime": {
     "end_time": "2024-04-02T15:58:06.662006Z",
     "start_time": "2024-04-02T15:58:05.515153Z"
    }
   },
   "outputs": [],
   "source": [
    "import numpy as np\n",
    "from pprint import pprint\n",
    "\n",
    "import random, pickle \n",
    "import pandas as pd\n",
    "\n",
    "from sklearn.datasets import make_regression\n",
    "# from autosklearn.metrics import mean_absolute_error, mean_squared_error\n",
    "from sklearn.metrics import mean_absolute_error, mean_squared_error, accuracy_score\n",
    "from sklearn.model_selection import train_test_split\n",
    "\n",
    "import autosklearn\n",
    "from autosklearn.regression import AutoSklearnRegressor\n",
    "from autosklearn.classification import AutoSklearnClassifier"
   ]
  },
  {
   "cell_type": "code",
   "execution_count": null,
   "id": "6fc4f3a4-3a62-4b00-a3db-6d0961229eba",
   "metadata": {
    "ExecuteTime": {
     "end_time": "2024-04-02T15:58:07.378654Z",
     "start_time": "2024-04-02T15:58:07.354937Z"
    }
   },
   "outputs": [],
   "source": [
    "df = pd.read_pickle(\"data_latest_average_non_zero_raw_secondary_task_repeated_insole.pkl\")"
   ]
  },
  {
   "cell_type": "code",
   "execution_count": null,
   "id": "98d8cd08-7847-489c-8126-46027261920e",
   "metadata": {
    "ExecuteTime": {
     "end_time": "2024-04-02T15:58:08.333288Z",
     "start_time": "2024-04-02T15:58:08.314972Z"
    }
   },
   "outputs": [],
   "source": [
    "df.columns"
   ]
  },
  {
   "cell_type": "code",
   "execution_count": null,
   "id": "92fca48d-ffdd-459c-b45b-56c852c31639",
   "metadata": {
    "ExecuteTime": {
     "end_time": "2024-04-02T15:57:00.320940Z",
     "start_time": "2024-04-02T15:57:00.293029Z"
    }
   },
   "outputs": [],
   "source": [
    "participant_list = df.participant_number.drop_duplicates().to_list()\n",
    "random.Random(420).shuffle(participant_list)\n",
    "print(participant_list)\n",
    "\n",
    "participant_list_train, participant_list_test = train_test_split(participant_list, random_state=115,  train_size=0.85)\n",
    "\n",
    "print(participant_list_train, participant_list_test)"
   ]
  },
  {
   "cell_type": "code",
   "execution_count": null,
   "id": "7014a05b",
   "metadata": {},
   "outputs": [],
   "source": [
    "# X, y = make_regression(n_samples=1000, n_features=10, n_informative=5, n_targets=3)\n",
    "\n",
    "# X_train, X_test, y_train, y_test = train_test_split(X, y, random_state=1)\n",
    "\n",
    "df_test = df[df['participant_number'].isin(participant_list_test)] #select test participants\n",
    "df_test = df_test.sample(frac=1).reset_index(drop=True) #shuffle and reset_index\n",
    "# df_test.reset_index(inplace=True,drop=True)\n",
    "df_train = df[df['participant_number'].isin(participant_list_train)] #select train participants\n",
    "df_train = df_train.sample(frac=1).reset_index(drop=True) #shuffle and reset_index\n",
    "# df_train.reset_index(inplace=True,drop=True)"
   ]
  },
  {
   "cell_type": "code",
   "execution_count": null,
   "id": "3e0e4476-7c97-400e-ad6b-b04f630fab42",
   "metadata": {
    "scrolled": true
   },
   "outputs": [],
   "source": [
    "arr = df_train[['mfk_1_entlasten', 'mfk_2_entlasten',\n",
    "       'mfk_3_entlasten', 'mfk_4_entlasten', 'mfk_5_entlasten',\n",
    "       'zehe_1_entlasten', 'zehe_2_entlasten', 'zehe_3_entlasten',\n",
    "       'zehe_4_entlasten', 'zehe_5_entlasten', 'pelotten_hoehe',\n",
    "       'pelotten_form', 'laengsgewoelbe_hoehe', 'basis_5_entlasten',\n",
    "       'aussenrand_anheben', 'innenrand_anheben']].values\n",
    "\n",
    "arr_np = np.asarray(arr.tolist())\n",
    "y_train = arr_np.astype(float)\n",
    "y_train += 0.0000000000000000000000000000001\n",
    "\n",
    "x_train = np.asarray(df_train.input_features.tolist())"
   ]
  },
  {
   "cell_type": "code",
   "execution_count": null,
   "id": "15acd2bd-9217-4334-b9bb-afeac6b12fd4",
   "metadata": {},
   "outputs": [],
   "source": [
    "arr = df_test[['mfk_1_entlasten', 'mfk_2_entlasten',\n",
    "       'mfk_3_entlasten', 'mfk_4_entlasten', 'mfk_5_entlasten',\n",
    "       'zehe_1_entlasten', 'zehe_2_entlasten', 'zehe_3_entlasten',\n",
    "       'zehe_4_entlasten', 'zehe_5_entlasten', 'pelotten_hoehe',\n",
    "       'pelotten_form', 'laengsgewoelbe_hoehe', 'basis_5_entlasten',\n",
    "       'aussenrand_anheben', 'innenrand_anheben']].values\n",
    "\n",
    "arr_np = np.asarray(arr.tolist())\n",
    "y_test = arr_np.astype(float)\n",
    "y_test += 0.0000000000000000000000000000001\n",
    "\n",
    "x_test = np.asarray(df_test.input_features.tolist())"
   ]
  },
  {
   "cell_type": "code",
   "execution_count": null,
   "id": "36d5e54d-bb75-473c-be68-4970f5463d57",
   "metadata": {},
   "outputs": [],
   "source": [
    "x_train.shape, y_train.shape , x_test.shape, y_test.shape"
   ]
  },
  {
   "cell_type": "code",
   "execution_count": null,
   "id": "739a30f7",
   "metadata": {},
   "outputs": [],
   "source": [
    "automl = AutoSklearnRegressor(\n",
    "    time_left_for_this_task=3600*5,\n",
    "    per_run_time_limit=150*2,\n",
    "    memory_limit = 500000,\n",
    "    seed = 14141,\n",
    "    metric = autosklearn.metrics.mean_squared_error,\n",
    "    \n",
    "    # resampling_strategy = 'cv'\n",
    "    resampling_strategy_arguments = {\n",
    "    \"shuffle\": True,        # Whether to shuffle before splitting data\n",
    "    # \"folds\": 3              # Used in 'cv' based resampling strategies\n",
    "    }\n",
    ")\n",
    "automl.fit(x_train, y_train)"
   ]
  },
  {
   "cell_type": "code",
   "execution_count": null,
   "id": "4609a794",
   "metadata": {},
   "outputs": [],
   "source": [
    "# save model\n",
    "# with open('data_averaged_time5hours_perRun300_secondary_task.pkl', 'wb') as f:\n",
    "#     pickle.dump(automl, f)\n",
    "\n",
    "print(automl.leaderboard())"
   ]
  },
  {
   "cell_type": "code",
   "execution_count": null,
   "id": "7dd9e2b4",
   "metadata": {
    "scrolled": true
   },
   "outputs": [],
   "source": [
    "pprint(automl.show_models(), indent=4)"
   ]
  },
  {
   "cell_type": "code",
   "execution_count": null,
   "id": "716d6b57",
   "metadata": {},
   "outputs": [],
   "source": [
    "predictions = automl.predict(x_test)\n",
    "print(\"Accuracy score:\", accuracy_score(y_test, predictions))"
   ]
  },
  {
   "cell_type": "code",
   "execution_count": null,
   "id": "bff639f6-1eea-4b2d-8356-18b99c5b7164",
   "metadata": {},
   "outputs": [],
   "source": [
    "df_test['predictions'] = predictions.tolist()\n",
    "df_test['y_test'] = y_test.tolist()"
   ]
  },
  {
   "cell_type": "code",
   "execution_count": null,
   "id": "4c46acab",
   "metadata": {},
   "outputs": [],
   "source": [
    "# df_test.to_pickle(\"data_averaged_time5hours_perRun300_secondary_task.pkl\")"
   ]
  },
  {
   "cell_type": "code",
   "execution_count": null,
   "id": "dda958a2",
   "metadata": {},
   "outputs": [],
   "source": [
    "# df_test.to_csv(\"data_averaged_time5hours_perRun300_secondary_task.csv\", index=False)"
   ]
  },
  {
   "cell_type": "code",
   "execution_count": null,
   "id": "a97daf61",
   "metadata": {},
   "outputs": [],
   "source": [
    "predictions, y_test"
   ]
  }
 ],
 "metadata": {
  "kernelspec": {
   "display_name": "Python 3 (ipykernel)",
   "language": "python",
   "name": "python3"
  },
  "language_info": {
   "codemirror_mode": {
    "name": "ipython",
    "version": 3
   },
   "file_extension": ".py",
   "mimetype": "text/x-python",
   "name": "python",
   "nbconvert_exporter": "python",
   "pygments_lexer": "ipython3",
   "version": "3.8.11"
  }
 },
 "nbformat": 4,
 "nbformat_minor": 5
}
