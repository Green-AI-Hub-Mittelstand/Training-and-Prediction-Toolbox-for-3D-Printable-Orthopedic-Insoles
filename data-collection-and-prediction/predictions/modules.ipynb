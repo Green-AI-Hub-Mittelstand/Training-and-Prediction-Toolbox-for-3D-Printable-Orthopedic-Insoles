{
 "cells": [
  {
   "cell_type": "code",
   "execution_count": 1,
   "id": "7402cc9f-a580-4564-a625-2b75ccabfc19",
   "metadata": {},
   "outputs": [],
   "source": [
    "import numpy as np\n",
    "from pprint import pprint\n",
    "import os, csv, json, re\n",
    "\n",
    "import random, pickle \n",
    "import pandas as pd\n",
    "\n",
    "from sklearn.datasets import make_regression\n",
    "# from autosklearn.metrics import mean_absolute_error, mean_squared_error\n",
    "from sklearn.metrics import mean_absolute_error, mean_squared_error\n",
    "from sklearn.model_selection import train_test_split\n",
    "\n",
    "import autosklearn"
   ]
  },
  {
   "cell_type": "code",
   "execution_count": 2,
   "id": "181b3341-97c8-44e2-8898-a25664586e24",
   "metadata": {},
   "outputs": [],
   "source": [
    "\n",
    "\n",
    "\n",
    "class SolePredictor():\n",
    "\n",
    "    COORDINATE_MODEL_PATH = \"data_averaged_time5hours_perRun300_model.pkl\"\n",
    "\n",
    "    PARAMETERS_LIST = ['mfk_1_entlasten', 'mfk_2_entlasten',\n",
    "               'mfk_3_entlasten', 'mfk_4_entlasten', 'mfk_5_entlasten',\n",
    "               'zehe_1_entlasten', 'zehe_2_entlasten', 'zehe_3_entlasten',\n",
    "               'zehe_4_entlasten', 'zehe_5_entlasten', 'pelotten_hoehe',\n",
    "               'pelotten_form', 'laengsgewoelbe_hoehe', 'basis_5_entlasten',\n",
    "               'aussenrand_anheben', 'innenrand_anheben']\n",
    "\n",
    "    def __init__(self, modelBasePath):\n",
    "        \n",
    "        self.modelBasePath = modelBasePath\n",
    "\n",
    "        self.loadModels()\n",
    "\n",
    "    \n",
    "    def loadModels(self):\n",
    "        ## coordinate model\n",
    "        print(\"Loading Points model\")\n",
    "        with open(os.path.join(self.modelBasePath, self.COORDINATE_MODEL_PATH), 'rb') as f:\n",
    "            self.pointModel =  pickle.load(f)\n",
    "            print(\"done\")\n",
    "\n",
    "        self.loadParamModels()\n",
    "\n",
    "    def loadParamModels(self):\n",
    "        \n",
    "        self.paramModels = {}\n",
    "\n",
    "        for feature_num, feature_name in enumerate(self.PARAMETERS_LIST):\n",
    "        \n",
    "        \n",
    "            print(\"Loading Classifier:\", feature_name)\n",
    "        \n",
    "        \n",
    "        \n",
    "            # load model\n",
    "            with open(os.path.join(self.modelBasePath, 'data_averaged_time5hours_perRun300_secondary_task_'+ feature_name +'model.pkl'), 'rb') as f:\n",
    "                self.paramModels[feature_name] = pickle.load(f)\n",
    "            print(\"done\")\n",
    "\n",
    "        \n",
    "\n",
    "\n",
    "\n",
    "\n",
    "    \n"
   ]
  },
  {
   "cell_type": "code",
   "execution_count": 3,
   "id": "6f144e34-8435-49eb-9463-5c7f1b32c301",
   "metadata": {},
   "outputs": [
    {
     "name": "stdout",
     "output_type": "stream",
     "text": [
      "Loading Points model\n"
     ]
    },
    {
     "ename": "UnpicklingError",
     "evalue": "invalid load key, 'v'.",
     "output_type": "error",
     "traceback": [
      "\u001b[0;31m---------------------------------------------------------------------------\u001b[0m",
      "\u001b[0;31mUnpicklingError\u001b[0m                           Traceback (most recent call last)",
      "Cell \u001b[0;32mIn [3], line 1\u001b[0m\n\u001b[0;32m----> 1\u001b[0m sp  \u001b[38;5;241m=\u001b[39m \u001b[43mSolePredictor\u001b[49m\u001b[43m(\u001b[49m\u001b[38;5;124;43m\"\u001b[39;49m\u001b[38;5;124;43m./models\u001b[39;49m\u001b[38;5;124;43m\"\u001b[39;49m\u001b[43m)\u001b[49m\n",
      "Cell \u001b[0;32mIn [2], line 16\u001b[0m, in \u001b[0;36mSolePredictor.__init__\u001b[0;34m(self, modelBasePath)\u001b[0m\n\u001b[1;32m     12\u001b[0m \u001b[38;5;28;01mdef\u001b[39;00m \u001b[38;5;21m__init__\u001b[39m(\u001b[38;5;28mself\u001b[39m, modelBasePath):\n\u001b[1;32m     14\u001b[0m     \u001b[38;5;28mself\u001b[39m\u001b[38;5;241m.\u001b[39mmodelBasePath \u001b[38;5;241m=\u001b[39m modelBasePath\n\u001b[0;32m---> 16\u001b[0m     \u001b[38;5;28;43mself\u001b[39;49m\u001b[38;5;241;43m.\u001b[39;49m\u001b[43mloadModels\u001b[49m\u001b[43m(\u001b[49m\u001b[43m)\u001b[49m\n",
      "Cell \u001b[0;32mIn [2], line 23\u001b[0m, in \u001b[0;36mSolePredictor.loadModels\u001b[0;34m(self)\u001b[0m\n\u001b[1;32m     21\u001b[0m \u001b[38;5;28mprint\u001b[39m(\u001b[38;5;124m\"\u001b[39m\u001b[38;5;124mLoading Points model\u001b[39m\u001b[38;5;124m\"\u001b[39m)\n\u001b[1;32m     22\u001b[0m \u001b[38;5;28;01mwith\u001b[39;00m \u001b[38;5;28mopen\u001b[39m(os\u001b[38;5;241m.\u001b[39mpath\u001b[38;5;241m.\u001b[39mjoin(\u001b[38;5;28mself\u001b[39m\u001b[38;5;241m.\u001b[39mmodelBasePath, \u001b[38;5;28mself\u001b[39m\u001b[38;5;241m.\u001b[39mCOORDINATE_MODEL_PATH), \u001b[38;5;124m'\u001b[39m\u001b[38;5;124mrb\u001b[39m\u001b[38;5;124m'\u001b[39m) \u001b[38;5;28;01mas\u001b[39;00m f:\n\u001b[0;32m---> 23\u001b[0m     \u001b[38;5;28mself\u001b[39m\u001b[38;5;241m.\u001b[39mpointModel \u001b[38;5;241m=\u001b[39m  \u001b[43mpickle\u001b[49m\u001b[38;5;241;43m.\u001b[39;49m\u001b[43mload\u001b[49m\u001b[43m(\u001b[49m\u001b[43mf\u001b[49m\u001b[43m)\u001b[49m\n\u001b[1;32m     24\u001b[0m     \u001b[38;5;28mprint\u001b[39m(\u001b[38;5;124m\"\u001b[39m\u001b[38;5;124mdone\u001b[39m\u001b[38;5;124m\"\u001b[39m)\n\u001b[1;32m     26\u001b[0m \u001b[38;5;28mself\u001b[39m\u001b[38;5;241m.\u001b[39mloadParamModels()\n",
      "\u001b[0;31mUnpicklingError\u001b[0m: invalid load key, 'v'."
     ]
    }
   ],
   "source": [
    "sp  = SolePredictor(\"./models\")"
   ]
  },
  {
   "cell_type": "code",
   "execution_count": null,
   "id": "0aab8f79-1c62-49db-9046-42d267205993",
   "metadata": {},
   "outputs": [],
   "source": []
  }
 ],
 "metadata": {
  "kernelspec": {
   "display_name": "Python 3 (ipykernel)",
   "language": "python",
   "name": "python3"
  },
  "language_info": {
   "codemirror_mode": {
    "name": "ipython",
    "version": 3
   },
   "file_extension": ".py",
   "mimetype": "text/x-python",
   "name": "python",
   "nbconvert_exporter": "python",
   "pygments_lexer": "ipython3",
   "version": "3.8.10"
  }
 },
 "nbformat": 4,
 "nbformat_minor": 5
}
